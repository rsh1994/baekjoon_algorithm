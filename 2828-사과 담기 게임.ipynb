{
 "cells": [
  {
   "cell_type": "code",
   "execution_count": 11,
   "id": "da150506",
   "metadata": {},
   "outputs": [
    {
     "name": "stdout",
     "output_type": "stream",
     "text": [
      "5 2\n",
      "3\n",
      "1\n",
      "5\n",
      "3\n",
      "1 2 1\n",
      "4 5 5\n",
      "3 4 3\n",
      "4\n"
     ]
    }
   ],
   "source": [
    "from collections import deque\n",
    "n,m = map(int,input().split())\n",
    "t = int(input())\n",
    "arr = []\n",
    "for _ in range(t):\n",
    "    arr.append(int(input()))\n",
    "    \n",
    "ml = 1 # m의 왼쪽 좌표\n",
    "mr = m # m의 오른쪽 좌표\n",
    "\n",
    "cnt = 0\n",
    "\n",
    "while arr:\n",
    "    q = arr.pop(0)\n",
    "    if ml > q :\n",
    "        cnt += (ml-q)\n",
    "        mr = mr - (ml-q)\n",
    "        ml = q\n",
    "        \n",
    "    elif mr < q:\n",
    "        cnt += (q-mr)\n",
    "        ml = ml + (q-mr)\n",
    "        mr = q\n",
    "        \n",
    "    #print(ml,mr,q)\n",
    "print(cnt)"
   ]
  },
  {
   "cell_type": "code",
   "execution_count": null,
   "id": "9d0fdbc4",
   "metadata": {},
   "outputs": [],
   "source": []
  }
 ],
 "metadata": {
  "kernelspec": {
   "display_name": "Python 3",
   "language": "python",
   "name": "python3"
  },
  "language_info": {
   "codemirror_mode": {
    "name": "ipython",
    "version": 3
   },
   "file_extension": ".py",
   "mimetype": "text/x-python",
   "name": "python",
   "nbconvert_exporter": "python",
   "pygments_lexer": "ipython3",
   "version": "3.9.4"
  }
 },
 "nbformat": 4,
 "nbformat_minor": 5
}
