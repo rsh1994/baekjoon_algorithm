{
 "cells": [
  {
   "cell_type": "code",
   "execution_count": 7,
   "id": "a065d5ae",
   "metadata": {},
   "outputs": [
    {
     "name": "stdout",
     "output_type": "stream",
     "text": [
      "5\n",
      "3\n"
     ]
    }
   ],
   "source": [
    "n = int(input())\n",
    "\n",
    "arr = [ 0 for _ in range(n+1)]\n",
    "\n",
    "for i in range(2, n+1):\n",
    "    arr[i] = arr[i-1] + 1\n",
    "    \n",
    "    if i%2==0 and arr[i] > arr[i//2] + 1:\n",
    "        arr[i] = arr[i//2] + 1\n",
    "        \n",
    "    if i%3==0 and arr[i] > arr[i//3] + 1:\n",
    "        arr[i] = arr[i//3] + 1\n",
    "        \n",
    "print(arr[-1])\n",
    "\n",
    "\n"
   ]
  },
  {
   "cell_type": "code",
   "execution_count": null,
   "id": "6192bc2e",
   "metadata": {},
   "outputs": [],
   "source": []
  }
 ],
 "metadata": {
  "kernelspec": {
   "display_name": "Python 3",
   "language": "python",
   "name": "python3"
  },
  "language_info": {
   "codemirror_mode": {
    "name": "ipython",
    "version": 3
   },
   "file_extension": ".py",
   "mimetype": "text/x-python",
   "name": "python",
   "nbconvert_exporter": "python",
   "pygments_lexer": "ipython3",
   "version": "3.8.8"
  }
 },
 "nbformat": 4,
 "nbformat_minor": 5
}
