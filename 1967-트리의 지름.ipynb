{
 "cells": [
  {
   "cell_type": "code",
   "execution_count": 4,
   "id": "f29dae94",
   "metadata": {},
   "outputs": [
    {
     "name": "stdout",
     "output_type": "stream",
     "text": [
      "12\n",
      "1 2 3\n",
      "1 3 2\n",
      "2 4 5\n",
      "3 5 11\n",
      "3 6 9\n",
      "4 7 1\n",
      "4 8 7\n",
      "5 9 15\n",
      "5 10 4\n",
      "6 11 6\n",
      "6 12 10\n",
      "[-1, 0, 3, 2, 8, 13, 11, 9, 15, 28, 17, 17, 21]\n",
      "45\n"
     ]
    }
   ],
   "source": [
    "def dfs(x, wei):\n",
    "    for i in graph[x]:\n",
    "        a, b = i\n",
    "        if distance[a] == -1:\n",
    "            distance[a] = wei+b\n",
    "            dfs(a, distance[a])\n",
    "\n",
    "n = int(input())\n",
    "\n",
    "graph = [[] for _ in range(n+1)]\n",
    "\n",
    "for _ in range(n-1):\n",
    "    a,b,c = map(int, input().split())\n",
    "    graph[a].append([b,c])\n",
    "    graph[b].append([a,c])\n",
    "    \n",
    "distance = [-1] * (n+1)\n",
    "distance[1] = 0\n",
    "dfs(1, 0)\n",
    "print(distance)\n",
    "\n",
    "start = distance.index(max(distance))\n",
    "distance = [-1] * (n+1)\n",
    "distance[start] = 0\n",
    "dfs(start, 0)\n",
    "print(max(distance))\n"
   ]
  },
  {
   "cell_type": "code",
   "execution_count": null,
   "id": "c0623c61",
   "metadata": {},
   "outputs": [],
   "source": []
  }
 ],
 "metadata": {
  "kernelspec": {
   "display_name": "Python 3",
   "language": "python",
   "name": "python3"
  },
  "language_info": {
   "codemirror_mode": {
    "name": "ipython",
    "version": 3
   },
   "file_extension": ".py",
   "mimetype": "text/x-python",
   "name": "python",
   "nbconvert_exporter": "python",
   "pygments_lexer": "ipython3",
   "version": "3.8.8"
  }
 },
 "nbformat": 4,
 "nbformat_minor": 5
}
