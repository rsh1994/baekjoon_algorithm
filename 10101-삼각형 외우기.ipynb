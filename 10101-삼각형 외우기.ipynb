{
 "cells": [
  {
   "cell_type": "code",
   "execution_count": 12,
   "id": "4cff2f3e",
   "metadata": {},
   "outputs": [
    {
     "name": "stdout",
     "output_type": "stream",
     "text": [
      "50\n",
      "50\n",
      "50\n",
      "Error\n"
     ]
    }
   ],
   "source": [
    "angle = []\n",
    "\n",
    "for i in range(3):\n",
    "    angle.append(int(input()))\n",
    "    \n",
    "if sum(angle) != 180:\n",
    "    print(\"Error\")\n",
    "elif angle[0] == angle[1] == angle[2]:\n",
    "    print(\"Equilateral\")\n",
    "elif angle[0] == angle[1] or angle[1] == angle[2] or angle[2] == angle[0]:\n",
    "    print(\"Isosceles\")\n",
    "else:\n",
    "    print(\"Scalene\")"
   ]
  },
  {
   "cell_type": "code",
   "execution_count": null,
   "id": "573741df",
   "metadata": {},
   "outputs": [],
   "source": []
  }
 ],
 "metadata": {
  "kernelspec": {
   "display_name": "Python 3",
   "language": "python",
   "name": "python3"
  },
  "language_info": {
   "codemirror_mode": {
    "name": "ipython",
    "version": 3
   },
   "file_extension": ".py",
   "mimetype": "text/x-python",
   "name": "python",
   "nbconvert_exporter": "python",
   "pygments_lexer": "ipython3",
   "version": "3.8.8"
  }
 },
 "nbformat": 4,
 "nbformat_minor": 5
}
