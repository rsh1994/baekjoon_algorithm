{
 "cells": [
  {
   "cell_type": "markdown",
   "id": "68a134cc",
   "metadata": {},
   "source": [
    "### DFS"
   ]
  },
  {
   "cell_type": "code",
   "execution_count": null,
   "id": "e12551f1",
   "metadata": {},
   "outputs": [],
   "source": [
    "def dfs(v):\n",
    "    visited[v] = True\n",
    "    for e in adj[v]:\n",
    "        if not visited[e]:\n",
    "            dfs(e)\n",
    "\n",
    "n, m = map(int, input().split())\n",
    "\n",
    "adj = [[] for _ in range(n+1)]\n",
    "visited = [False] * (n+1)\n",
    "\n",
    "count = 0\n",
    "\n",
    "for _ in range(m):\n",
    "    u, v = map(int, input().split())\n",
    "    adj[u].append(v)\n",
    "    adj[v].append(u)\n",
    "    \n",
    "for i in range(1,n+1):\n",
    "    if not visited[i]:\n",
    "        dfs(i)\n",
    "        count += 1\n",
    "print(count)"
   ]
  },
  {
   "cell_type": "markdown",
   "id": "6f530964",
   "metadata": {},
   "source": [
    "> 런타임 에러"
   ]
  },
  {
   "cell_type": "code",
   "execution_count": null,
   "id": "ac95e0aa",
   "metadata": {},
   "outputs": [],
   "source": []
  },
  {
   "cell_type": "markdown",
   "id": "2efeb42e",
   "metadata": {},
   "source": [
    "\n",
    "### BFS"
   ]
  },
  {
   "cell_type": "code",
   "execution_count": 20,
   "id": "fc3cede1",
   "metadata": {},
   "outputs": [
    {
     "name": "stdout",
     "output_type": "stream",
     "text": [
      "6 5\n",
      "1 2\n",
      "2 5\n",
      "5 1\n",
      "3 4\n",
      "4 6\n",
      "2\n"
     ]
    }
   ],
   "source": [
    "from collections import deque\n",
    "\n",
    "def bfs(v):\n",
    "    q = deque()\n",
    "    q.append(v)\n",
    "    while q:\n",
    "        x = q.popleft()\n",
    "        \n",
    "        for k in adj[x]:\n",
    "            if visited[k] == False:\n",
    "                q.append(k)\n",
    "                visited[k] = True\n",
    "                #print(q)\n",
    "    \n",
    "count = 0\n",
    "n, m = map(int, input().split())\n",
    "\n",
    "adj = [[] for _ in range(n+1)]\n",
    "visited = [False] * (n+1)\n",
    "for _ in range(m):\n",
    "    u, v = map(int, input().split())\n",
    "    adj[u].append(v)\n",
    "    adj[v].append(u)\n",
    "for i in range(1,n+1):\n",
    "    if not visited[i]:\n",
    "        bfs(i)\n",
    "        count += 1\n",
    "        \n",
    "#print(visited)\n",
    "print(count)"
   ]
  },
  {
   "cell_type": "markdown",
   "id": "e322e48a",
   "metadata": {},
   "source": [
    "> 시간초과"
   ]
  },
  {
   "cell_type": "code",
   "execution_count": null,
   "id": "98ef0762",
   "metadata": {},
   "outputs": [],
   "source": []
  }
 ],
 "metadata": {
  "kernelspec": {
   "display_name": "Python 3",
   "language": "python",
   "name": "python3"
  },
  "language_info": {
   "codemirror_mode": {
    "name": "ipython",
    "version": 3
   },
   "file_extension": ".py",
   "mimetype": "text/x-python",
   "name": "python",
   "nbconvert_exporter": "python",
   "pygments_lexer": "ipython3",
   "version": "3.8.8"
  }
 },
 "nbformat": 4,
 "nbformat_minor": 5
}
