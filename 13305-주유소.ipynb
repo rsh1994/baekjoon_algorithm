{
 "cells": [
  {
   "cell_type": "code",
   "execution_count": 3,
   "id": "7cb74526",
   "metadata": {},
   "outputs": [
    {
     "name": "stdout",
     "output_type": "stream",
     "text": [
      "4\n",
      "3 3 4\n",
      "1 1 1 1\n",
      "10\n"
     ]
    }
   ],
   "source": [
    "n = int(input())\n",
    "m = list(map(int,input().split()))\n",
    "p = list(map(int,input().split()))\n",
    "\n",
    "min_price = p[0]\n",
    "\n",
    "answer = 0\n",
    "\n",
    "for i in range(len(m)):\n",
    "    if min_price > p[i]:\n",
    "        min_price = p[i]\n",
    "    answer += min_price * m[i]\n",
    "    \n",
    "print(answer)\n",
    "    "
   ]
  },
  {
   "cell_type": "code",
   "execution_count": null,
   "id": "5f564e35",
   "metadata": {},
   "outputs": [],
   "source": []
  }
 ],
 "metadata": {
  "kernelspec": {
   "display_name": "Python 3",
   "language": "python",
   "name": "python3"
  },
  "language_info": {
   "codemirror_mode": {
    "name": "ipython",
    "version": 3
   },
   "file_extension": ".py",
   "mimetype": "text/x-python",
   "name": "python",
   "nbconvert_exporter": "python",
   "pygments_lexer": "ipython3",
   "version": "3.8.8"
  }
 },
 "nbformat": 4,
 "nbformat_minor": 5
}
