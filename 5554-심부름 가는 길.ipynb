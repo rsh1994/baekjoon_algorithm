{
 "cells": [
  {
   "cell_type": "code",
   "execution_count": 1,
   "id": "b4da33b4",
   "metadata": {},
   "outputs": [
    {
     "name": "stdout",
     "output_type": "stream",
     "text": [
      "31\n",
      "34\n",
      "7\n",
      "151\n",
      "3\n",
      "43\n"
     ]
    }
   ],
   "source": [
    "result = 0\n",
    "for _ in range(4):\n",
    "    result += int(input())\n",
    "    \n",
    "print(result//60)\n",
    "print(result%60)"
   ]
  },
  {
   "cell_type": "code",
   "execution_count": null,
   "id": "00719b07",
   "metadata": {},
   "outputs": [],
   "source": []
  }
 ],
 "metadata": {
  "kernelspec": {
   "display_name": "Python 3",
   "language": "python",
   "name": "python3"
  },
  "language_info": {
   "codemirror_mode": {
    "name": "ipython",
    "version": 3
   },
   "file_extension": ".py",
   "mimetype": "text/x-python",
   "name": "python",
   "nbconvert_exporter": "python",
   "pygments_lexer": "ipython3",
   "version": "3.8.8"
  }
 },
 "nbformat": 4,
 "nbformat_minor": 5
}
