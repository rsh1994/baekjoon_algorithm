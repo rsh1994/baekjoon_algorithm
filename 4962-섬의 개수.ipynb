{
 "cells": [
  {
   "cell_type": "code",
   "execution_count": null,
   "id": "e59ff327",
   "metadata": {},
   "outputs": [
    {
     "name": "stdout",
     "output_type": "stream",
     "text": [
      "5 5\n",
      "1 0 1 0 1\n",
      "0 0 0 0 0\n",
      "1 0 1 0 1\n",
      "0 0 0 0 0\n"
     ]
    }
   ],
   "source": [
    "from collections import deque\n",
    "\n",
    "def bfs(x, y):\n",
    "    global graph\n",
    "    global visited\n",
    "    global r\n",
    "    global c\n",
    "    '''\n",
    "    bfs 구현\n",
    "    '''\n",
    "    \n",
    "    q = deque()\n",
    "    visited[x][y] = 1\n",
    "    q.append((x, y))\n",
    "    \n",
    "    while q:\n",
    "        x, y = q.popleft()\n",
    "        for i in range(8):\n",
    "            nx = x + dx[i]\n",
    "            ny = y + dy[i]\n",
    "            if 0<=nx<r and 0<=ny<c and visited[nx][ny]==0 and graph[nx][ny]==1:\n",
    "                q.append((nx,ny))\n",
    "                visited[nx][ny] = 1\n",
    "            \n",
    "    \n",
    "\n",
    "\n",
    "# 상하좌우 대각선\n",
    "dx = [1,-1,0,0,1,1,-1,-1]\n",
    "dy = [0,0,1,-1,1,-1,1,-1]\n",
    "\n",
    "while True:\n",
    "    c, r = map(int, input().split())\n",
    "\n",
    "    if c==0 and r==0 :\n",
    "        break\n",
    "    cnt = 0\n",
    "    graph = []\n",
    "    \n",
    "    for i in range(r):\n",
    "        graph.append(list(map(int, input().split())))\n",
    "        \n",
    "    visited = [[0 for _ in range(c)] for _ in range(r)]\n",
    "        \n",
    "    for i in range(r):\n",
    "        for j in range(c):\n",
    "            if graph[i][j] == 1 and visited[i][j] == 0:\n",
    "                cnt += 1\n",
    "                bfs(i,j)\n",
    "                \n",
    "    print(cnt)"
   ]
  },
  {
   "cell_type": "code",
   "execution_count": null,
   "id": "93b008c6",
   "metadata": {},
   "outputs": [],
   "source": []
  },
  {
   "cell_type": "code",
   "execution_count": null,
   "id": "6c5dda81",
   "metadata": {},
   "outputs": [],
   "source": []
  }
 ],
 "metadata": {
  "kernelspec": {
   "display_name": "Python 3",
   "language": "python",
   "name": "python3"
  },
  "language_info": {
   "codemirror_mode": {
    "name": "ipython",
    "version": 3
   },
   "file_extension": ".py",
   "mimetype": "text/x-python",
   "name": "python",
   "nbconvert_exporter": "python",
   "pygments_lexer": "ipython3",
   "version": "3.8.8"
  }
 },
 "nbformat": 4,
 "nbformat_minor": 5
}
