{
 "cells": [
  {
   "cell_type": "code",
   "execution_count": 1,
   "id": "52e13b0d",
   "metadata": {},
   "outputs": [
    {
     "name": "stdout",
     "output_type": "stream",
     "text": [
      "2\n",
      "6\n",
      "3\n",
      "12\n",
      "16\n"
     ]
    }
   ],
   "source": [
    "t = int(input())\n",
    "\n",
    "arr = [0 for _ in range(101)]\n",
    "\n",
    "arr[1] = 1\n",
    "arr[2] = 1\n",
    "arr[3] = 1\n",
    "\n",
    "for i in range(4,101):\n",
    "    arr[i] = arr[i-3] + arr[i-2]\n",
    "for _ in range(t):\n",
    "    n = int(input())\n",
    "    print(arr[n])\n",
    "    "
   ]
  },
  {
   "cell_type": "code",
   "execution_count": null,
   "id": "de35c958",
   "metadata": {},
   "outputs": [],
   "source": []
  }
 ],
 "metadata": {
  "kernelspec": {
   "display_name": "Python 3",
   "language": "python",
   "name": "python3"
  },
  "language_info": {
   "codemirror_mode": {
    "name": "ipython",
    "version": 3
   },
   "file_extension": ".py",
   "mimetype": "text/x-python",
   "name": "python",
   "nbconvert_exporter": "python",
   "pygments_lexer": "ipython3",
   "version": "3.9.4"
  }
 },
 "nbformat": 4,
 "nbformat_minor": 5
}
