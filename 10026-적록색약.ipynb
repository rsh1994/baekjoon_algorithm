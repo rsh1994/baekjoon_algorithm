{
 "cells": [
  {
   "cell_type": "code",
   "execution_count": 14,
   "id": "33689fca",
   "metadata": {},
   "outputs": [
    {
     "name": "stdout",
     "output_type": "stream",
     "text": [
      "5\n",
      "RRRBB\n",
      "GGBBB\n",
      "BBBRR\n",
      "BBRRR\n",
      "RRRRR\n",
      "4 3\n"
     ]
    }
   ],
   "source": [
    "from collections import deque\n",
    "\n",
    "dx = [-1,1,0,0]\n",
    "dy = [0,0,-1,1]\n",
    "\n",
    "def bfs(x, y):\n",
    "    q.append([x,y])\n",
    "    c[x][y] = cnt\n",
    "    while q:\n",
    "        x, y = q.popleft()\n",
    "        for i in range(4):\n",
    "            nx = x + dx[i]\n",
    "            ny = y + dy[i]\n",
    "            if 0<=nx<n and 0<=ny<n:\n",
    "                if a[nx][ny]==a[x][y] and c[nx][ny]==0:\n",
    "                    q.append([nx,ny])\n",
    "                    c[nx][ny] = 1\n",
    "    \n",
    "n = int(input())\n",
    "a = [list(map(str, input())) for _ in range(n)]\n",
    "c = [[0]*n for _ in range(n)]\n",
    "q = deque()\n",
    "\n",
    "cnt = 0\n",
    "for i in range(n):\n",
    "    for j in range(n):\n",
    "        if c[i][j] == 0: # 방문하지 않은 노드\n",
    "            bfs(i,j)\n",
    "            cnt += 1\n",
    "print(cnt, end=' ')        \n",
    "\n",
    "cnt = 0\n",
    "c = [[0]*n for _ in range(n)]\n",
    "for i in range(n):\n",
    "    for j in range(n):\n",
    "        if a[i][j] == 'R':\n",
    "            a[i][j] = 'G'\n",
    "\n",
    "for i in range(n):\n",
    "    for j in range(n):\n",
    "        if c[i][j]==0:\n",
    "            bfs(i,j)\n",
    "            cnt += 1\n",
    "print(cnt)\n",
    "                "
   ]
  },
  {
   "cell_type": "code",
   "execution_count": null,
   "id": "2a1bd4af",
   "metadata": {},
   "outputs": [],
   "source": []
  }
 ],
 "metadata": {
  "kernelspec": {
   "display_name": "Python 3",
   "language": "python",
   "name": "python3"
  },
  "language_info": {
   "codemirror_mode": {
    "name": "ipython",
    "version": 3
   },
   "file_extension": ".py",
   "mimetype": "text/x-python",
   "name": "python",
   "nbconvert_exporter": "python",
   "pygments_lexer": "ipython3",
   "version": "3.8.8"
  }
 },
 "nbformat": 4,
 "nbformat_minor": 5
}
