{
 "cells": [
  {
   "cell_type": "code",
   "execution_count": 21,
   "id": "c0dce6ae",
   "metadata": {},
   "outputs": [
    {
     "name": "stdout",
     "output_type": "stream",
     "text": [
      "100\n",
      "4955\n"
     ]
    }
   ],
   "source": [
    "n = int(input())\n",
    "\n",
    "def solution(n):\n",
    "    arr = [0 for _ in range(n+1)]\n",
    "    \n",
    "    if n==1:\n",
    "        print(1)\n",
    "        return\n",
    "    elif n==2:\n",
    "        print(2)\n",
    "        return\n",
    "    \n",
    "    arr[1] = 1\n",
    "    arr[2] = 2    \n",
    "    \n",
    "    for i in range(3,n+1):\n",
    "        arr[i] = arr[i-2] + arr[i-1]\n",
    "    print(arr[-1]%10007)\n",
    "    return\n",
    "    \n",
    "solution(n)\n"
   ]
  },
  {
   "cell_type": "code",
   "execution_count": null,
   "id": "20b855e6",
   "metadata": {},
   "outputs": [],
   "source": []
  }
 ],
 "metadata": {
  "kernelspec": {
   "display_name": "Python 3",
   "language": "python",
   "name": "python3"
  },
  "language_info": {
   "codemirror_mode": {
    "name": "ipython",
    "version": 3
   },
   "file_extension": ".py",
   "mimetype": "text/x-python",
   "name": "python",
   "nbconvert_exporter": "python",
   "pygments_lexer": "ipython3",
   "version": "3.8.8"
  }
 },
 "nbformat": 4,
 "nbformat_minor": 5
}
