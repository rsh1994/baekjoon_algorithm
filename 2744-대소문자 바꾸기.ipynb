{
 "cells": [
  {
   "cell_type": "code",
   "execution_count": 1,
   "id": "e2ab3a52",
   "metadata": {},
   "outputs": [
    {
     "name": "stdout",
     "output_type": "stream",
     "text": [
      "WrongAnswer\n",
      "wRONGaNSWER\n"
     ]
    }
   ],
   "source": [
    "s = input()\n",
    "answer = ''\n",
    "\n",
    "for i in s:\n",
    "    if i.islower():\n",
    "        answer += i.upper()\n",
    "    else:\n",
    "        answer += i.lower()\n",
    "print(answer)"
   ]
  },
  {
   "cell_type": "code",
   "execution_count": null,
   "id": "c4020540",
   "metadata": {},
   "outputs": [],
   "source": []
  }
 ],
 "metadata": {
  "kernelspec": {
   "display_name": "Python 3",
   "language": "python",
   "name": "python3"
  },
  "language_info": {
   "codemirror_mode": {
    "name": "ipython",
    "version": 3
   },
   "file_extension": ".py",
   "mimetype": "text/x-python",
   "name": "python",
   "nbconvert_exporter": "python",
   "pygments_lexer": "ipython3",
   "version": "3.8.8"
  }
 },
 "nbformat": 4,
 "nbformat_minor": 5
}
