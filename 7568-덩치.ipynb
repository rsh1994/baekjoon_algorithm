{
 "cells": [
  {
   "cell_type": "code",
   "execution_count": 7,
   "id": "0c29f2f8",
   "metadata": {},
   "outputs": [
    {
     "name": "stdout",
     "output_type": "stream",
     "text": [
      "5\n",
      "55 185\n",
      "58 183\n",
      "88 186\n",
      "60 175\n",
      "46 155\n",
      "2 2 1 2 5 \n"
     ]
    }
   ],
   "source": [
    "n = int(input())\n",
    "\n",
    "arr = [list(map(int,input().split())) for _ in range(n)]\n",
    "\n",
    "rank_list = []\n",
    "\n",
    "for w1, t1 in arr:\n",
    "    rank = 1\n",
    "    for w2, t2 in arr:\n",
    "        if w1 < w2 and t1 < t2:\n",
    "            rank += 1\n",
    "    print(rank, end=' ')\n",
    "print()"
   ]
  },
  {
   "cell_type": "code",
   "execution_count": null,
   "id": "1a972da0",
   "metadata": {},
   "outputs": [],
   "source": []
  }
 ],
 "metadata": {
  "kernelspec": {
   "display_name": "Python 3",
   "language": "python",
   "name": "python3"
  },
  "language_info": {
   "codemirror_mode": {
    "name": "ipython",
    "version": 3
   },
   "file_extension": ".py",
   "mimetype": "text/x-python",
   "name": "python",
   "nbconvert_exporter": "python",
   "pygments_lexer": "ipython3",
   "version": "3.8.8"
  }
 },
 "nbformat": 4,
 "nbformat_minor": 5
}
