{
 "cells": [
  {
   "cell_type": "code",
   "execution_count": 7,
   "id": "187b7c10",
   "metadata": {},
   "outputs": [
    {
     "name": "stdout",
     "output_type": "stream",
     "text": [
      "XXX\n",
      "-1\n"
     ]
    }
   ],
   "source": [
    "s = input()\n",
    "answer = ''\n",
    "cnt = 0\n",
    "\n",
    "s = s.replace('XXXX','AAAA')\n",
    "s = s.replace('XX','BB')\n",
    "if 'X' in s:\n",
    "    print(-1)\n",
    "else:\n",
    "    print(s)"
   ]
  },
  {
   "cell_type": "code",
   "execution_count": null,
   "id": "223c2e43",
   "metadata": {},
   "outputs": [],
   "source": []
  }
 ],
 "metadata": {
  "kernelspec": {
   "display_name": "Python 3",
   "language": "python",
   "name": "python3"
  },
  "language_info": {
   "codemirror_mode": {
    "name": "ipython",
    "version": 3
   },
   "file_extension": ".py",
   "mimetype": "text/x-python",
   "name": "python",
   "nbconvert_exporter": "python",
   "pygments_lexer": "ipython3",
   "version": "3.9.4"
  }
 },
 "nbformat": 4,
 "nbformat_minor": 5
}
