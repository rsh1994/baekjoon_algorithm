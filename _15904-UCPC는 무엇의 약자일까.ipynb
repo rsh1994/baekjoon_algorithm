{
 "cells": [
  {
   "cell_type": "code",
   "execution_count": 4,
   "id": "380dcba5",
   "metadata": {},
   "outputs": [
    {
     "name": "stdout",
     "output_type": "stream",
     "text": [
      "University Computer Programming\n",
      "I hate UCPC\n"
     ]
    }
   ],
   "source": [
    "s = input().split()\n",
    "\n",
    "idx = 1\n",
    "flag=False\n",
    "\n",
    "for i in s:\n",
    "    if i[0] == 'U' and idx==1:\n",
    "        idx+=1\n",
    "    elif i[0] =='C' and idx==2:\n",
    "        idx+=1\n",
    "    elif i[0] == 'P' and idx==3:\n",
    "        idx+=1\n",
    "    elif i[0] =='C' and idx==4:\n",
    "        flag = True\n",
    "        break\n",
    "        \n",
    "if flag:\n",
    "    print(\"I love UCPC\")\n",
    "else:\n",
    "    print(\"I hate UCPC\")"
   ]
  },
  {
   "cell_type": "code",
   "execution_count": null,
   "id": "25e4b7ec",
   "metadata": {},
   "outputs": [],
   "source": []
  }
 ],
 "metadata": {
  "kernelspec": {
   "display_name": "Python 3",
   "language": "python",
   "name": "python3"
  },
  "language_info": {
   "codemirror_mode": {
    "name": "ipython",
    "version": 3
   },
   "file_extension": ".py",
   "mimetype": "text/x-python",
   "name": "python",
   "nbconvert_exporter": "python",
   "pygments_lexer": "ipython3",
   "version": "3.9.4"
  }
 },
 "nbformat": 4,
 "nbformat_minor": 5
}
