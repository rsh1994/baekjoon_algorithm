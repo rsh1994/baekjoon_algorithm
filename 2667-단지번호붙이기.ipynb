{
 "cells": [
  {
   "cell_type": "markdown",
   "id": "445cff4f",
   "metadata": {},
   "source": [
    "### BFS"
   ]
  },
  {
   "cell_type": "code",
   "execution_count": 26,
   "id": "3c7f57ba",
   "metadata": {
    "scrolled": true
   },
   "outputs": [
    {
     "name": "stdout",
     "output_type": "stream",
     "text": [
      "7\n",
      "0110100\n",
      "0110101\n",
      "1110101\n",
      "0000111\n",
      "0100000\n",
      "0111110\n",
      "0111000\n",
      "9\n",
      "8\n",
      "7\n"
     ]
    }
   ],
   "source": [
    "from collections import deque\n",
    "\n",
    "n = int(input())\n",
    "\n",
    "graph = []\n",
    "\n",
    "for i in range(n):\n",
    "    graph.append(list(map(int,input())))\n",
    "\n",
    "\n",
    "visited = [[0 for _ in range(n)] for _ in range(n)]\n",
    "\n",
    "dx = [-1,1,0,0]\n",
    "dy = [0,0,-1,1]\n",
    "\n",
    "num = 0\n",
    "# bfs\n",
    "def bfs(x, y, cnt):\n",
    "    global num\n",
    "    q  = deque()\n",
    "    q.append((x,y))\n",
    "    visited[x][y] = cnt\n",
    "    while q:\n",
    "        x, y = q.popleft()\n",
    "\n",
    "        for k in range(4):\n",
    "            nx, ny = x+dx[k], y+dy[k]\n",
    "            \n",
    "            if 0<=nx<n and 0<=ny<n and graph[nx][ny]==1 and visited[nx][ny]==0:\n",
    "                q.append((nx,ny))\n",
    "                visited[nx][ny] = cnt\n",
    "                num += 1\n",
    "    return True\n",
    "                \n",
    "cnt = 0\n",
    "num_list = []\n",
    "for i in range(n):\n",
    "    for j in range(n):\n",
    "        num = 0\n",
    "        if graph[i][j] == 1 and visited[i][j] == 0: # 집이 있는곳 탐색\n",
    "            cnt += 1\n",
    "            bfs(i, j, cnt)\n",
    "            num_list.append(num+1)\n",
    "            num = 0\n",
    "ans = visited\n",
    "print(cnt)\n",
    "num_list.sort()\n",
    "for i in num_list:\n",
    "    print(i)"
   ]
  },
  {
   "cell_type": "markdown",
   "id": "44b49ee8",
   "metadata": {},
   "source": [
    "### DFS"
   ]
  },
  {
   "cell_type": "code",
   "execution_count": 10,
   "id": "555bcfe4",
   "metadata": {},
   "outputs": [
    {
     "name": "stdout",
     "output_type": "stream",
     "text": [
      "7\n",
      "0110100\n",
      "0110101\n",
      "1110101\n",
      "0000111\n",
      "0100000\n",
      "0111110\n",
      "0111000\n",
      "3\n",
      "[[0, 0, 0, 0, 0, 0, 0], [0, 0, 0, 0, 0, 0, 0], [0, 0, 0, 0, 0, 0, 0], [0, 0, 0, 0, 0, 0, 0], [0, 0, 0, 0, 0, 0, 0], [0, 0, 0, 0, 0, 0, 0], [0, 0, 0, 0, 0, 0, 0]]\n",
      "[7, 8, 9]\n"
     ]
    }
   ],
   "source": [
    "n = int(input())\n",
    "\n",
    "graph = []\n",
    "visited = [[-1 for _ in range(n)] for _ in range(n)]\n",
    "\n",
    "dx = [-1,1,0,0]\n",
    "dy = [0,0,-1,1]\n",
    "\n",
    "cnt = 0\n",
    "result = []\n",
    "result_cnt = 0\n",
    "for i in range(n):\n",
    "    graph.append(list(map(int,input())))\n",
    "\n",
    "def dfs(x, y):\n",
    "    global result_cnt\n",
    "    if 0<=x<n and 0<=y<n and graph[x][y]==1:\n",
    "        graph[x][y]=0\n",
    "        result_cnt += 1\n",
    "        for k in range(4):\n",
    "            nx = x + dx[k]\n",
    "            ny = y + dy[k]\n",
    "            dfs(nx, ny)\n",
    "        return True\n",
    "    return False\n",
    "        \n",
    "    \n",
    "for i in range(n):\n",
    "    for j in range(n):\n",
    "        if graph[i][j]==1:\n",
    "            cnt += 1\n",
    "            dfs(i,j)\n",
    "            result.append(result_cnt)\n",
    "            result_cnt = 0\n",
    "print(cnt)\n",
    "result.sort()\n",
    "for i in result:\n",
    "    print(i)"
   ]
  },
  {
   "cell_type": "code",
   "execution_count": null,
   "id": "089ed0e8",
   "metadata": {},
   "outputs": [],
   "source": []
  },
  {
   "cell_type": "code",
   "execution_count": null,
   "id": "28f12b62",
   "metadata": {},
   "outputs": [],
   "source": []
  }
 ],
 "metadata": {
  "kernelspec": {
   "display_name": "Python 3",
   "language": "python",
   "name": "python3"
  },
  "language_info": {
   "codemirror_mode": {
    "name": "ipython",
    "version": 3
   },
   "file_extension": ".py",
   "mimetype": "text/x-python",
   "name": "python",
   "nbconvert_exporter": "python",
   "pygments_lexer": "ipython3",
   "version": "3.8.8"
  }
 },
 "nbformat": 4,
 "nbformat_minor": 5
}
