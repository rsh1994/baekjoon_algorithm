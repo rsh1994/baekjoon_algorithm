{
 "cells": [
  {
   "cell_type": "code",
   "execution_count": 12,
   "id": "49669a48",
   "metadata": {},
   "outputs": [
    {
     "name": "stdout",
     "output_type": "stream",
     "text": [
      "10 7\n",
      "result: [2, 4, 6, 8, 10]\n",
      "idx 3\n",
      "result: [2, 4, 6, 8, 10, 9, 3, 6]\n",
      "idx 5\n",
      "[2, 4, 6, 8, 10, 9, 3, 6]\n"
     ]
    }
   ],
   "source": [
    "n, k = map(int, input().split())\n",
    "\n",
    "arr = set([i for i in range(2,n+1)])\n",
    "\n",
    "idx = 2\n",
    "\n",
    "result = []\n",
    "\n",
    "while len(result)<=k:\n",
    "    result += set(i for i in range(idx,n+1,idx))\n",
    "    while idx in result:\n",
    "        idx += 1\n",
    "    print(\"result:\",result)\n",
    "    print(\"idx\",idx)\n",
    "print(result)\n",
    "\n",
    "    "
   ]
  },
  {
   "cell_type": "code",
   "execution_count": null,
   "id": "4b5851af",
   "metadata": {},
   "outputs": [],
   "source": []
  }
 ],
 "metadata": {
  "kernelspec": {
   "display_name": "Python 3",
   "language": "python",
   "name": "python3"
  },
  "language_info": {
   "codemirror_mode": {
    "name": "ipython",
    "version": 3
   },
   "file_extension": ".py",
   "mimetype": "text/x-python",
   "name": "python",
   "nbconvert_exporter": "python",
   "pygments_lexer": "ipython3",
   "version": "3.8.8"
  }
 },
 "nbformat": 4,
 "nbformat_minor": 5
}
