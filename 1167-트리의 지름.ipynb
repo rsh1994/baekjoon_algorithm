{
 "cells": [
  {
   "cell_type": "code",
   "execution_count": 14,
   "id": "e880a23a",
   "metadata": {},
   "outputs": [
    {
     "name": "stdout",
     "output_type": "stream",
     "text": [
      "5\n",
      "1 3 2 -1\n",
      "[[], [[3, 2]], [], [], [], []]\n",
      "2 4 4 -1\n",
      "[[], [[3, 2]], [[4, 4]], [], [], []]\n",
      "3 1 2 4 3 -1\n",
      "[[], [[3, 2]], [[4, 4]], [[1, 2], [4, 3]], [], []]\n",
      "4 2 4 3 3 5 6 -1\n",
      "[[], [[3, 2]], [[4, 4]], [[1, 2], [4, 3]], [[2, 4], [3, 3], [5, 6]], []]\n",
      "5 4 6 -1\n",
      "[[], [[3, 2]], [[4, 4]], [[1, 2], [4, 3]], [[2, 4], [3, 3], [5, 6]], [[4, 6]]]\n",
      "start: 1\n",
      "start: 3\n",
      "start: 4\n",
      "start: 2\n",
      "start: 5\n",
      "start: 5\n",
      "start: 4\n",
      "start: 2\n",
      "start: 3\n",
      "start: 1\n",
      "[-1, 11, 10, 9, 6, 0]\n"
     ]
    }
   ],
   "source": [
    "def dfs(start, weight):\n",
    "    for p,w in graph[start]:\n",
    "        if distance[p]==-1:\n",
    "            distance[p] = weight+w\n",
    "            dfs(p,distance[p])\n",
    "\n",
    "n = int(input())\n",
    "\n",
    "graph = [[] for _ in range(n+1)]\n",
    "distance = [-1 for _ in range(n+1)]\n",
    "\n",
    "for i in range(n):\n",
    "    temp = list(map(int, input().split()))\n",
    "    for i in range(1,len(temp)-1,2):\n",
    "        graph[temp[0]].append([temp[i],temp[i+1]])\n",
    "        \n",
    "    \n",
    "distance[1] = 0\n",
    "dfs(1,0)\n",
    "\n",
    "start = distance.index(max(distance))\n",
    "distance = [-1 for _ in range(n+1)]\n",
    "distance[start] = 0\n",
    "dfs(start,0)\n",
    "print(max(distance))\n"
   ]
  },
  {
   "cell_type": "code",
   "execution_count": null,
   "id": "8b4863a7",
   "metadata": {},
   "outputs": [],
   "source": []
  }
 ],
 "metadata": {
  "kernelspec": {
   "display_name": "Python 3",
   "language": "python",
   "name": "python3"
  },
  "language_info": {
   "codemirror_mode": {
    "name": "ipython",
    "version": 3
   },
   "file_extension": ".py",
   "mimetype": "text/x-python",
   "name": "python",
   "nbconvert_exporter": "python",
   "pygments_lexer": "ipython3",
   "version": "3.8.8"
  }
 },
 "nbformat": 4,
 "nbformat_minor": 5
}
