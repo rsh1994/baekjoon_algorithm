{
 "cells": [
  {
   "cell_type": "code",
   "execution_count": 18,
   "id": "0a717fef",
   "metadata": {},
   "outputs": [
    {
     "name": "stdout",
     "output_type": "stream",
     "text": [
      "1\n",
      "7\n",
      "13 10 12 11 10 11 12\n",
      "[13, 10, 12, 11, 10, 11, 12]\n",
      "[10, 10, 11, 11, 12, 12, 13]\n",
      "1\n"
     ]
    }
   ],
   "source": [
    "t = int(input())\n",
    "\n",
    "for _ in range(t):\n",
    "    n = int(input())\n",
    "    arr = list(map(int,input().split()))\n",
    "    arr.sort()\n",
    "    max_num = max(abs(arr[0]-arr[1]),abs(arr[n-1]-arr[n-2]))\n",
    "    \n",
    "    for i in range(1,n-2,2):\n",
    "        if abs(arr[i]-arr[i+2]) > max_num:\n",
    "            max_num = abs(arr[i]-arr[i+2])\n",
    "                          \n",
    "    for i in range(0,n-2,2):\n",
    "        if abs(arr[i]-arr[i+2]) > max_num:\n",
    "            max_num = abs(arr[i]-arr[i+2])\n",
    "                          \n",
    "    print(max_num)\n",
    "    \n",
    "\n",
    "    \n",
    "    "
   ]
  },
  {
   "cell_type": "code",
   "execution_count": 10,
   "id": "25e959c8",
   "metadata": {},
   "outputs": [
    {
     "name": "stdout",
     "output_type": "stream",
     "text": [
      "<generator object <genexpr> at 0x7fa161298200>\n"
     ]
    }
   ],
   "source": []
  },
  {
   "cell_type": "code",
   "execution_count": null,
   "id": "5975e5b5",
   "metadata": {},
   "outputs": [],
   "source": []
  }
 ],
 "metadata": {
  "kernelspec": {
   "display_name": "Python 3",
   "language": "python",
   "name": "python3"
  },
  "language_info": {
   "codemirror_mode": {
    "name": "ipython",
    "version": 3
   },
   "file_extension": ".py",
   "mimetype": "text/x-python",
   "name": "python",
   "nbconvert_exporter": "python",
   "pygments_lexer": "ipython3",
   "version": "3.9.4"
  }
 },
 "nbformat": 4,
 "nbformat_minor": 5
}
