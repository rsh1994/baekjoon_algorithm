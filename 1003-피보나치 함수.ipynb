{
 "cells": [
  {
   "cell_type": "code",
   "execution_count": 22,
   "id": "c68ade5a",
   "metadata": {},
   "outputs": [
    {
     "name": "stdout",
     "output_type": "stream",
     "text": [
      "3\n",
      "0\n",
      "1 0\n",
      "1\n",
      "0 1\n",
      "3\n",
      "1 2\n"
     ]
    }
   ],
   "source": [
    "arr_zero = [0 for _ in range(41)]\n",
    "arr_one = [0 for _ in range(41)]\n",
    "\n",
    "arr_zero[0]=1\n",
    "arr_one[1]=1\n",
    "\n",
    "for i in range(2,41):\n",
    "    arr_zero[i] = arr_zero[i-2]+arr_zero[i-1]\n",
    "    arr_one[i] = arr_one[i-2]+arr_one[i-1]\n",
    "    \n",
    "t = int(input())\n",
    "for _ in range(t):\n",
    "    n = int(input())\n",
    "    print(arr_zero[n], arr_one[n])\n",
    "    \n",
    "    "
   ]
  },
  {
   "cell_type": "code",
   "execution_count": 13,
   "id": "979ef0ed",
   "metadata": {},
   "outputs": [],
   "source": [
    "zero_cnt =0\n",
    "one_cnt = 0"
   ]
  },
  {
   "cell_type": "code",
   "execution_count": null,
   "id": "85a43354",
   "metadata": {},
   "outputs": [],
   "source": []
  }
 ],
 "metadata": {
  "kernelspec": {
   "display_name": "Python 3",
   "language": "python",
   "name": "python3"
  },
  "language_info": {
   "codemirror_mode": {
    "name": "ipython",
    "version": 3
   },
   "file_extension": ".py",
   "mimetype": "text/x-python",
   "name": "python",
   "nbconvert_exporter": "python",
   "pygments_lexer": "ipython3",
   "version": "3.8.8"
  }
 },
 "nbformat": 4,
 "nbformat_minor": 5
}
