{
 "cells": [
  {
   "cell_type": "code",
   "execution_count": 6,
   "id": "8a11e974",
   "metadata": {},
   "outputs": [
    {
     "name": "stdout",
     "output_type": "stream",
     "text": [
      "1 1 1\n",
      "*\n"
     ]
    }
   ],
   "source": [
    "arr = list(map(int,input().split()))\n",
    "\n",
    "result = {0:'A',1:'B',2:'C'}\n",
    "\n",
    "if sum(arr) == 0 or sum(arr)==3:\n",
    "    print(\"*\")\n",
    "elif sum(arr)==2:\n",
    "    print(result[arr.index(0)])\n",
    "elif sum(arr)==1:\n",
    "    print(result[arr.index(1)])"
   ]
  },
  {
   "cell_type": "code",
   "execution_count": null,
   "id": "62c254e1",
   "metadata": {},
   "outputs": [],
   "source": []
  }
 ],
 "metadata": {
  "kernelspec": {
   "display_name": "Python 3",
   "language": "python",
   "name": "python3"
  },
  "language_info": {
   "codemirror_mode": {
    "name": "ipython",
    "version": 3
   },
   "file_extension": ".py",
   "mimetype": "text/x-python",
   "name": "python",
   "nbconvert_exporter": "python",
   "pygments_lexer": "ipython3",
   "version": "3.8.8"
  }
 },
 "nbformat": 4,
 "nbformat_minor": 5
}
