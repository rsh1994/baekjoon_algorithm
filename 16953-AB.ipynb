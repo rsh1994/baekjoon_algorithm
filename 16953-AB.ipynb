{
 "cells": [
  {
   "cell_type": "code",
   "execution_count": 9,
   "id": "d41b4e7a",
   "metadata": {},
   "outputs": [
    {
     "name": "stdout",
     "output_type": "stream",
     "text": [
      "2 162\n",
      "81\n",
      "8\n",
      "4\n",
      "2\n",
      "5\n"
     ]
    }
   ],
   "source": [
    "a, b = map(int,input().split())\n",
    "\n",
    "flag = True\n",
    "cnt = 1\n",
    "while True:\n",
    "    if a==b:\n",
    "        print(cnt)\n",
    "        break\n",
    "    elif a>b:\n",
    "        print(-1)\n",
    "        break\n",
    "    if b%10 == 1:\n",
    "        b = b//10\n",
    "        cnt += 1\n",
    "    elif b%2 == 0:\n",
    "        b = b//2\n",
    "        cnt += 1\n",
    "    else:\n",
    "        print(-1)\n",
    "        break\n",
    "    #print(b)\n",
    "        \n"
   ]
  },
  {
   "cell_type": "code",
   "execution_count": null,
   "id": "aa0c17ca",
   "metadata": {},
   "outputs": [],
   "source": []
  }
 ],
 "metadata": {
  "kernelspec": {
   "display_name": "Python 3",
   "language": "python",
   "name": "python3"
  },
  "language_info": {
   "codemirror_mode": {
    "name": "ipython",
    "version": 3
   },
   "file_extension": ".py",
   "mimetype": "text/x-python",
   "name": "python",
   "nbconvert_exporter": "python",
   "pygments_lexer": "ipython3",
   "version": "3.9.4"
  }
 },
 "nbformat": 4,
 "nbformat_minor": 5
}
