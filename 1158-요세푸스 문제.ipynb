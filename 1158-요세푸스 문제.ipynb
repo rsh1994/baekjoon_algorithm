{
 "cells": [
  {
   "cell_type": "code",
   "execution_count": 34,
   "id": "73bc1efd",
   "metadata": {},
   "outputs": [
    {
     "name": "stdout",
     "output_type": "stream",
     "text": [
      "7 3\n",
      "2\n",
      "answer: [3]\n",
      "idx: 4\n",
      "answer: [3, 6]\n",
      "idx: 1\n",
      "answer: [3, 6, 2]\n",
      "idx: 3\n",
      "answer: [3, 6, 2, 7]\n",
      "idx: 2\n",
      "answer: [3, 6, 2, 7, 5]\n",
      "idx: 0\n",
      "answer: [3, 6, 2, 7, 5, 1]\n",
      "idx: 0\n",
      "<3, 6, 2, 7, 5, 1, 4>\n"
     ]
    }
   ],
   "source": [
    "n, k = map(int, input().split())\n",
    "\n",
    "arr = [i for i in range(1,n+1)]\n",
    "\n",
    "answer = [arr.pop(k-1)]\n",
    "\n",
    "result = ''\n",
    "idx = k-1\n",
    "print(idx)\n",
    "while arr:\n",
    "    idx = (idx+k-1) % len(arr)\n",
    "    print(\"answer:\",answer)\n",
    "    print(\"idx:\",idx)\n",
    "    answer.append(arr.pop(idx))\n",
    "\n",
    "result = '<'+', '.join(map(str,answer))+'>'\n",
    "print(result)"
   ]
  },
  {
   "cell_type": "code",
   "execution_count": null,
   "id": "44584310",
   "metadata": {},
   "outputs": [],
   "source": []
  }
 ],
 "metadata": {
  "kernelspec": {
   "display_name": "Python 3",
   "language": "python",
   "name": "python3"
  },
  "language_info": {
   "codemirror_mode": {
    "name": "ipython",
    "version": 3
   },
   "file_extension": ".py",
   "mimetype": "text/x-python",
   "name": "python",
   "nbconvert_exporter": "python",
   "pygments_lexer": "ipython3",
   "version": "3.8.8"
  }
 },
 "nbformat": 4,
 "nbformat_minor": 5
}
