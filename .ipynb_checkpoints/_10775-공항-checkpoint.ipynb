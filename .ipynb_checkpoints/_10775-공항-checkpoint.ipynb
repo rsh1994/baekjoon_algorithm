{
 "cells": [
  {
   "cell_type": "code",
   "execution_count": 22,
   "id": "d8d598ac",
   "metadata": {},
   "outputs": [
    {
     "name": "stdout",
     "output_type": "stream",
     "text": [
      "4\n",
      "6\n",
      "[0, 0, 0, 0, 0]\n",
      "2\n",
      "zzz 1\n",
      "[0, 0, 1, 0, 0]\n",
      "2\n",
      "zzz 2\n",
      "[0, 1, 1, 0, 0]\n",
      "3\n",
      "zzz 3\n",
      "[0, 1, 1, 1, 0]\n",
      "3\n"
     ]
    }
   ],
   "source": [
    "n = int(input())\n",
    "\n",
    "a = int(input())\n",
    "\n",
    "cnt = 0\n",
    "\n",
    "arr = [0 for _ in range(n+1)]\n",
    "#print(arr)\n",
    "for _ in range(a):\n",
    "    k = int(input())\n",
    "    flag = True\n",
    "    if arr[1:k+1].count(1) == k:\n",
    "            break\n",
    "    for i in range(k,0,-1):\n",
    "        \n",
    "        if arr[i] == 0 and flag:\n",
    "            arr[i] = 1\n",
    "            cnt += 1\n",
    "            flag = False\n",
    "        \n",
    "    #print(\"zzz\",arr[1:k+1].count(1))\n",
    "    #print(arr)\n",
    "print(cnt)"
   ]
  },
  {
   "cell_type": "markdown",
   "id": "dd8b770d",
   "metadata": {},
   "source": []
  }
 ],
 "metadata": {
  "kernelspec": {
   "display_name": "Python 3",
   "language": "python",
   "name": "python3"
  },
  "language_info": {
   "codemirror_mode": {
    "name": "ipython",
    "version": 3
   },
   "file_extension": ".py",
   "mimetype": "text/x-python",
   "name": "python",
   "nbconvert_exporter": "python",
   "pygments_lexer": "ipython3",
   "version": "3.9.4"
  }
 },
 "nbformat": 4,
 "nbformat_minor": 5
}
