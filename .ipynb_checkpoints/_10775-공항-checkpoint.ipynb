{
 "cells": [
  {
   "cell_type": "code",
   "execution_count": 14,
   "id": "03d6039b",
   "metadata": {},
   "outputs": [
    {
     "name": "stdout",
     "output_type": "stream",
     "text": [
      "4\n",
      "6\n",
      "2\n",
      "2\n",
      "3\n",
      "3\n",
      "4\n",
      "4\n",
      "5\n"
     ]
    }
   ],
   "source": [
    "n = int(input())\n",
    "\n",
    "a = int(input())\n",
    "\n",
    "cnt = 0\n",
    "\n",
    "for _ in range(a):\n",
    "    k = int(input())\n",
    "    \n",
    "    if cnt > k :\n",
    "        print(cnt)\n",
    "        break\n",
    "    else:\n",
    "        cnt += 1\n",
    "    "
   ]
  },
  {
   "cell_type": "markdown",
   "id": "dd8b770d",
   "metadata": {},
   "source": [
    "## "
   ]
  }
 ],
 "metadata": {
  "kernelspec": {
   "display_name": "Python 3",
   "language": "python",
   "name": "python3"
  },
  "language_info": {
   "codemirror_mode": {
    "name": "ipython",
    "version": 3
   },
   "file_extension": ".py",
   "mimetype": "text/x-python",
   "name": "python",
   "nbconvert_exporter": "python",
   "pygments_lexer": "ipython3",
   "version": "3.9.4"
  }
 },
 "nbformat": 4,
 "nbformat_minor": 5
}
