{
 "cells": [
  {
   "cell_type": "code",
   "execution_count": 18,
   "id": "d5ca4b0d",
   "metadata": {},
   "outputs": [
    {
     "name": "stdout",
     "output_type": "stream",
     "text": [
      "2\n",
      "5\n",
      "2\n",
      "100\n",
      "10\n"
     ]
    }
   ],
   "source": [
    "t = int(input())\n",
    "\n",
    "\n",
    "for _ in range(t):\n",
    "    n = int(input())\n",
    "    arr = [0 for _ in range(n+1)]\n",
    "    idx = 1\n",
    "    while True:\n",
    "        if idx==n+1:\n",
    "            break\n",
    "        for i in range(0,n+1,idx):\n",
    "            if arr[i] == 0:\n",
    "                arr[i] = 1\n",
    "            else:\n",
    "                arr[i] = 0\n",
    "        idx+=1\n",
    "    arr.pop(0)\n",
    "    print(arr.count(1))"
   ]
  },
  {
   "cell_type": "code",
   "execution_count": null,
   "id": "db7cc1d2",
   "metadata": {},
   "outputs": [],
   "source": []
  }
 ],
 "metadata": {
  "kernelspec": {
   "display_name": "Python 3",
   "language": "python",
   "name": "python3"
  },
  "language_info": {
   "codemirror_mode": {
    "name": "ipython",
    "version": 3
   },
   "file_extension": ".py",
   "mimetype": "text/x-python",
   "name": "python",
   "nbconvert_exporter": "python",
   "pygments_lexer": "ipython3",
   "version": "3.8.8"
  }
 },
 "nbformat": 4,
 "nbformat_minor": 5
}
