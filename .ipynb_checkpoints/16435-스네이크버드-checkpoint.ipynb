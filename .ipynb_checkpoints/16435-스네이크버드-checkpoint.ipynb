{
 "cells": [
  {
   "cell_type": "code",
   "execution_count": 4,
   "id": "a76511d2",
   "metadata": {},
   "outputs": [
    {
     "name": "stdout",
     "output_type": "stream",
     "text": [
      "9 1\n",
      "9 5 8 1 3 2 7 6 4\n",
      "10\n"
     ]
    }
   ],
   "source": [
    "n, l = map(int, input().split())\n",
    "arr = list(map(int,input().split()))\n",
    "arr.sort()\n",
    "\n",
    "while True:\n",
    "    if len(arr)==0:\n",
    "        break\n",
    "    if arr[0] <= l:\n",
    "        arr.pop(0)\n",
    "        l += 1\n",
    "    else:\n",
    "        break\n",
    "    \n",
    "print(l)\n"
   ]
  },
  {
   "cell_type": "code",
   "execution_count": null,
   "id": "28ffb22f",
   "metadata": {},
   "outputs": [],
   "source": []
  }
 ],
 "metadata": {
  "kernelspec": {
   "display_name": "Python 3",
   "language": "python",
   "name": "python3"
  },
  "language_info": {
   "codemirror_mode": {
    "name": "ipython",
    "version": 3
   },
   "file_extension": ".py",
   "mimetype": "text/x-python",
   "name": "python",
   "nbconvert_exporter": "python",
   "pygments_lexer": "ipython3",
   "version": "3.9.4"
  }
 },
 "nbformat": 4,
 "nbformat_minor": 5
}
