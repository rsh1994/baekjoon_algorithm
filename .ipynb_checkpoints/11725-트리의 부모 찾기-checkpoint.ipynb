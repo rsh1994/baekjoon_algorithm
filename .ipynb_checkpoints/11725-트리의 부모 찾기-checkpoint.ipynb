{
 "cells": [
  {
   "cell_type": "code",
   "execution_count": 3,
   "id": "36ee871e",
   "metadata": {},
   "outputs": [
    {
     "name": "stdout",
     "output_type": "stream",
     "text": [
      "7\n",
      "1 6\n",
      "6 3\n",
      "3 5\n",
      "4 1\n",
      "2 4\n",
      "4 7\n",
      "4\n",
      "6\n",
      "1\n",
      "3\n",
      "1\n",
      "4\n"
     ]
    }
   ],
   "source": [
    "import sys\n",
    "sys.setrecursionlimit(10**9)\n",
    "\n",
    "def DFS(start, tree, parents):\n",
    "    for i in tree[start]:\n",
    "        if parents[i] == 0:\n",
    "            parents[i] = start\n",
    "            DFS(i, tree, parents)\n",
    "        \n",
    "\n",
    "n = int(input())\n",
    "\n",
    "graph = [[] for _ in range(n+1)]\n",
    "parents = [0 for _ in range(n+1)]\n",
    "\n",
    "for i in range(n-1):\n",
    "    a, b = map(int, input().split())\n",
    "    graph[a].append(b)\n",
    "    graph[b].append(a)\n",
    "    \n",
    "DFS(1, graph, parents)\n",
    "\n",
    "for i in range(2,n+1):\n",
    "    print(parents[i])"
   ]
  },
  {
   "cell_type": "markdown",
   "id": "ebe42047",
   "metadata": {},
   "source": []
  },
  {
   "cell_type": "code",
   "execution_count": null,
   "id": "015a59b9",
   "metadata": {},
   "outputs": [],
   "source": []
  }
 ],
 "metadata": {
  "kernelspec": {
   "display_name": "Python 3",
   "language": "python",
   "name": "python3"
  },
  "language_info": {
   "codemirror_mode": {
    "name": "ipython",
    "version": 3
   },
   "file_extension": ".py",
   "mimetype": "text/x-python",
   "name": "python",
   "nbconvert_exporter": "python",
   "pygments_lexer": "ipython3",
   "version": "3.8.8"
  }
 },
 "nbformat": 4,
 "nbformat_minor": 5
}
