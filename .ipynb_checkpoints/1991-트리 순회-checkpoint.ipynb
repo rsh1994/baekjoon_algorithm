{
 "cells": [
  {
   "cell_type": "code",
   "execution_count": 4,
   "id": "bc371758",
   "metadata": {},
   "outputs": [
    {
     "name": "stdout",
     "output_type": "stream",
     "text": [
      "3\n",
      "A B C\n",
      "B\n",
      "{'A': <__main__.Node object at 0x0000017FAC1CB5E0>}\n",
      "E . .\n",
      ".\n",
      "{'A': <__main__.Node object at 0x0000017FAC1CB5E0>, 'E': <__main__.Node object at 0x0000017FAC1CB640>}\n",
      "D . .\n",
      ".\n",
      "{'A': <__main__.Node object at 0x0000017FAC1CB5E0>, 'E': <__main__.Node object at 0x0000017FAC1CB640>, 'D': <__main__.Node object at 0x0000017FAC1C6CA0>}\n"
     ]
    }
   ],
   "source": [
    "class Node:\n",
    "    def __init__(self, item, left, right):\n",
    "        self.item = item\n",
    "        self.left = left\n",
    "        self.right = right\n",
    "        \n",
    "def preorder:\n",
    "    pass\n",
    "\n",
    "def inorder:\n",
    "    pass\n",
    "\n",
    "def postorder:\n",
    "    pass\n",
    "        \n",
    "        \n",
    "n = int(input())\n",
    "\n",
    "tree = {}\n",
    "\n",
    "for _ in range(n):\n",
    "    node, left, right = input().split()\n",
    "    tree[node] = Node(item=node, left=left, right=right)\n",
    "    print(left)\n",
    "    print(tree)\n",
    "\n",
    "    "
   ]
  },
  {
   "cell_type": "code",
   "execution_count": null,
   "id": "cecb2a67",
   "metadata": {},
   "outputs": [],
   "source": []
  }
 ],
 "metadata": {
  "kernelspec": {
   "display_name": "Python 3",
   "language": "python",
   "name": "python3"
  },
  "language_info": {
   "codemirror_mode": {
    "name": "ipython",
    "version": 3
   },
   "file_extension": ".py",
   "mimetype": "text/x-python",
   "name": "python",
   "nbconvert_exporter": "python",
   "pygments_lexer": "ipython3",
   "version": "3.8.8"
  }
 },
 "nbformat": 4,
 "nbformat_minor": 5
}
