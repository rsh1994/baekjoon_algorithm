{
 "cells": [
  {
   "cell_type": "code",
   "execution_count": 28,
   "id": "7c87db07",
   "metadata": {},
   "outputs": [
    {
     "name": "stdout",
     "output_type": "stream",
     "text": [
      "3\n",
      "1 0\n",
      "5\n",
      "1\n",
      "4 2\n",
      "1 2 3 4\n",
      "2\n",
      "6 0\n",
      "1 1 9 1 1 1\n",
      "5\n"
     ]
    }
   ],
   "source": [
    "from collections import deque\n",
    "\n",
    "n = int(input())\n",
    "\n",
    "# test case\n",
    "for _ in range(n):\n",
    "    n, m = map(int,input().split())\n",
    "    arr = list(map(int,input().split()))\n",
    "    q = deque(arr)\n",
    "    idx = deque(list(i for i in range(n)))\n",
    "    cnt = 1\n",
    "    while True:\n",
    "        if q[0] != max(q):\n",
    "            q.append(q.popleft())\n",
    "            idx.append(idx.popleft())\n",
    "        else:\n",
    "            a = q.popleft()\n",
    "            b = idx.popleft()\n",
    "            if b == m:\n",
    "                print(cnt)\n",
    "                break\n",
    "            cnt += 1\n",
    "            \n",
    "        "
   ]
  },
  {
   "cell_type": "code",
   "execution_count": 23,
   "id": "b1326bac",
   "metadata": {},
   "outputs": [],
   "source": [
    "q.append(2)"
   ]
  },
  {
   "cell_type": "code",
   "execution_count": 25,
   "id": "41181d96",
   "metadata": {},
   "outputs": [
    {
     "name": "stdout",
     "output_type": "stream",
     "text": [
      "deque([1, 1, 2, 1])\n",
      "deque([1, 2, 1, 1])\n"
     ]
    }
   ],
   "source": [
    "print(q)\n",
    "q.append(q.popleft())\n",
    "print(q)"
   ]
  },
  {
   "cell_type": "code",
   "execution_count": null,
   "id": "5e4d9ea9",
   "metadata": {},
   "outputs": [],
   "source": []
  }
 ],
 "metadata": {
  "kernelspec": {
   "display_name": "Python 3",
   "language": "python",
   "name": "python3"
  },
  "language_info": {
   "codemirror_mode": {
    "name": "ipython",
    "version": 3
   },
   "file_extension": ".py",
   "mimetype": "text/x-python",
   "name": "python",
   "nbconvert_exporter": "python",
   "pygments_lexer": "ipython3",
   "version": "3.8.8"
  }
 },
 "nbformat": 4,
 "nbformat_minor": 5
}
