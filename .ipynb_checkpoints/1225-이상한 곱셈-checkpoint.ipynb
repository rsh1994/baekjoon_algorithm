{
 "cells": [
  {
   "cell_type": "code",
   "execution_count": 5,
   "id": "6b851cc0",
   "metadata": {},
   "outputs": [
    {
     "name": "stdout",
     "output_type": "stream",
     "text": [
      "123 45\n",
      "54\n"
     ]
    }
   ],
   "source": [
    "a, b = input().split()\n",
    "\n",
    "result = sum([int(i) for i in a])\n",
    "answer = 0\n",
    "for i in b:\n",
    "    answer += result*int(i)\n",
    "print(answer)"
   ]
  },
  {
   "cell_type": "markdown",
   "id": "35cb0d44",
   "metadata": {},
   "source": []
  },
  {
   "cell_type": "code",
   "execution_count": null,
   "id": "2df04bcd",
   "metadata": {},
   "outputs": [],
   "source": []
  }
 ],
 "metadata": {
  "kernelspec": {
   "display_name": "Python 3",
   "language": "python",
   "name": "python3"
  },
  "language_info": {
   "codemirror_mode": {
    "name": "ipython",
    "version": 3
   },
   "file_extension": ".py",
   "mimetype": "text/x-python",
   "name": "python",
   "nbconvert_exporter": "python",
   "pygments_lexer": "ipython3",
   "version": "3.8.8"
  }
 },
 "nbformat": 4,
 "nbformat_minor": 5
}
