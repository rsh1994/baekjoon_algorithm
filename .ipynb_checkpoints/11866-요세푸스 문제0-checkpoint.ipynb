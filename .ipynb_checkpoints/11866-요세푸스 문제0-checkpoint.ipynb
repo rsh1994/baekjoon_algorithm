{
 "cells": [
  {
   "cell_type": "code",
   "execution_count": 13,
   "id": "855ed5ef",
   "metadata": {},
   "outputs": [
    {
     "name": "stdout",
     "output_type": "stream",
     "text": [
      "7 1\n",
      "<1, 4, 7, 5, 3, 6, 2>\n"
     ]
    }
   ],
   "source": [
    "n, m = map(int, input().split())\n",
    "\n",
    "arr = [i for i in range(1,n+1)]\n",
    "result = []\n",
    "idx = m-1\n",
    "while True:\n",
    "    result.append(str(arr.pop(idx)))\n",
    "    if arr==[]:\n",
    "        break\n",
    "    idx = (idx+m-1)%len(arr)\n",
    "    \n",
    "print(\"<\", end='')\n",
    "print(', '.join(result), end='')\n",
    "print(\">\")\n",
    "    "
   ]
  },
  {
   "cell_type": "code",
   "execution_count": null,
   "id": "1dc255b5",
   "metadata": {},
   "outputs": [],
   "source": []
  }
 ],
 "metadata": {
  "kernelspec": {
   "display_name": "Python 3",
   "language": "python",
   "name": "python3"
  },
  "language_info": {
   "codemirror_mode": {
    "name": "ipython",
    "version": 3
   },
   "file_extension": ".py",
   "mimetype": "text/x-python",
   "name": "python",
   "nbconvert_exporter": "python",
   "pygments_lexer": "ipython3",
   "version": "3.8.8"
  }
 },
 "nbformat": 4,
 "nbformat_minor": 5
}
