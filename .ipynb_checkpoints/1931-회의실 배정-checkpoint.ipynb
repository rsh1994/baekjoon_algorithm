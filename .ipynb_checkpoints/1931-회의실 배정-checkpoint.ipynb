{
 "cells": [
  {
   "cell_type": "code",
   "execution_count": 5,
   "id": "9ec6d944",
   "metadata": {},
   "outputs": [
    {
     "name": "stdout",
     "output_type": "stream",
     "text": [
      "11\n",
      "1 4\n",
      "3 5\n",
      "0 6\n",
      "5 7\n",
      "3 8\n",
      "5 9\n",
      "6 10\n",
      "8 11\n",
      "8 12\n",
      "2 13\n",
      "12 14\n",
      "cnt: 1 -- 1 -> 4\n",
      "cnt: 2 -- 5 -> 7\n",
      "cnt: 3 -- 8 -> 11\n",
      "cnt: 4 -- 12 -> 14\n"
     ]
    }
   ],
   "source": [
    "n = int(input())\n",
    "\n",
    "room = []\n",
    "cnt = 0\n",
    "end_time = 0\n",
    "for i in range(n):\n",
    "    room.append(list(map(int,input().split())))\n",
    "    \n",
    "\n",
    "room.sort(key=lambda x: (x[1],x[0]))\n",
    "\n",
    "for a,b in room:\n",
    "    if a>=end_time:\n",
    "        cnt+=1\n",
    "        end_time = b\n",
    "print(cnt)\n",
    "    "
   ]
  },
  {
   "cell_type": "code",
   "execution_count": null,
   "id": "4f037f12",
   "metadata": {},
   "outputs": [],
   "source": []
  }
 ],
 "metadata": {
  "kernelspec": {
   "display_name": "Python 3",
   "language": "python",
   "name": "python3"
  },
  "language_info": {
   "codemirror_mode": {
    "name": "ipython",
    "version": 3
   },
   "file_extension": ".py",
   "mimetype": "text/x-python",
   "name": "python",
   "nbconvert_exporter": "python",
   "pygments_lexer": "ipython3",
   "version": "3.9.4"
  }
 },
 "nbformat": 4,
 "nbformat_minor": 5
}
