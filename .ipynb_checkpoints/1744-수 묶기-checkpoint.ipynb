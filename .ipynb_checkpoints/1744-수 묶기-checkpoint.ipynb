{
 "cells": [
  {
   "cell_type": "code",
   "execution_count": 10,
   "id": "bc5fb904",
   "metadata": {},
   "outputs": [
    {
     "name": "stdout",
     "output_type": "stream",
     "text": [
      "3\n",
      "1\n",
      "0\n",
      "-1\n",
      "1\n"
     ]
    }
   ],
   "source": [
    "n = int(input())\n",
    "\n",
    "arr_p = []\n",
    "arr_0 = []\n",
    "arr_n = []\n",
    "\n",
    "answer = 0\n",
    "\n",
    "for i in range(n):\n",
    "    num = int(input())\n",
    "    if num>0:\n",
    "        arr_p.append(num)\n",
    "    elif num==0:\n",
    "        arr_0.append(num)\n",
    "    else:\n",
    "        arr_n.append(num)\n",
    "    \n",
    "arr_p.sort(reverse=True)\n",
    "arr_n.sort()\n",
    "\n",
    "while True:\n",
    "    if len(arr_p)==0:\n",
    "        break\n",
    "    if len(arr_p)==1:\n",
    "        answer += arr_p.pop(0)\n",
    "        break\n",
    "    a = arr_p.pop(0)\n",
    "    b = arr_p.pop(0)\n",
    "    if b == 1:\n",
    "        answer += (a+b)\n",
    "    else:\n",
    "        answer += a*b\n",
    "    \n",
    "while True:    \n",
    "    if len(arr_n)==0:\n",
    "        break\n",
    "    if len(arr_n)==1:\n",
    "        if len(arr_0) == 0:\n",
    "            answer += arr_n.pop(0)\n",
    "        break\n",
    "    a = arr_n.pop(0)\n",
    "    b = arr_n.pop(0)\n",
    "    answer += a*b\n",
    "print(answer)\n"
   ]
  },
  {
   "cell_type": "code",
   "execution_count": null,
   "id": "4bea4f5e",
   "metadata": {},
   "outputs": [],
   "source": []
  }
 ],
 "metadata": {
  "kernelspec": {
   "display_name": "Python 3",
   "language": "python",
   "name": "python3"
  },
  "language_info": {
   "codemirror_mode": {
    "name": "ipython",
    "version": 3
   },
   "file_extension": ".py",
   "mimetype": "text/x-python",
   "name": "python",
   "nbconvert_exporter": "python",
   "pygments_lexer": "ipython3",
   "version": "3.9.4"
  }
 },
 "nbformat": 4,
 "nbformat_minor": 5
}
