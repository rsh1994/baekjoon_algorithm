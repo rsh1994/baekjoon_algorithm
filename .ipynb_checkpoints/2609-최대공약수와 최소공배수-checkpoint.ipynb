{
 "cells": [
  {
   "cell_type": "code",
   "execution_count": 4,
   "id": "c7c076fb",
   "metadata": {},
   "outputs": [
    {
     "name": "stdout",
     "output_type": "stream",
     "text": [
      "1 1\n",
      "1\n",
      "1\n",
      "idx: 2\n",
      "gcd: 1\n",
      "arr: [1, 1]\n"
     ]
    }
   ],
   "source": [
    "a,b = map(int, input().split())\n",
    "\n",
    "gcd = 1\n",
    "lcm = 1\n",
    "\n",
    "idx = 2\n",
    "\n",
    "arr = []\n",
    "\n",
    "while True:\n",
    "    if idx > min(a,b):\n",
    "        arr.append(a)\n",
    "        arr.append(b)\n",
    "        break\n",
    "    if a%idx==0 and b%idx==0:\n",
    "        a //= idx\n",
    "        b //= idx\n",
    "        gcd *= idx\n",
    "    else:\n",
    "        idx += 1\n",
    "print(gcd)\n",
    "print(gcd*a*b)\n",
    "#print(\"idx:\",idx)\n",
    "#print(\"gcd:\",gcd)\n",
    "#print(\"arr:\",arr)\n",
    "    "
   ]
  },
  {
   "cell_type": "code",
   "execution_count": null,
   "id": "e82b5b0a",
   "metadata": {},
   "outputs": [],
   "source": []
  }
 ],
 "metadata": {
  "kernelspec": {
   "display_name": "Python 3",
   "language": "python",
   "name": "python3"
  },
  "language_info": {
   "codemirror_mode": {
    "name": "ipython",
    "version": 3
   },
   "file_extension": ".py",
   "mimetype": "text/x-python",
   "name": "python",
   "nbconvert_exporter": "python",
   "pygments_lexer": "ipython3",
   "version": "3.9.4"
  }
 },
 "nbformat": 4,
 "nbformat_minor": 5
}
