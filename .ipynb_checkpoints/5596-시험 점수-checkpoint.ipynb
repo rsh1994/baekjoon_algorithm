{
 "cells": [
  {
   "cell_type": "code",
   "execution_count": 3,
   "id": "92c36365",
   "metadata": {},
   "outputs": [
    {
     "name": "stdout",
     "output_type": "stream",
     "text": [
      "100 80 70 60\n",
      "80 70 80 90\n",
      "320\n"
     ]
    }
   ],
   "source": [
    "a = sum(list(map(int,input().split())))\n",
    "b = sum(list(map(int,input().split())))\n",
    "print(a if a>b else b)"
   ]
  },
  {
   "cell_type": "code",
   "execution_count": null,
   "id": "fa2e5cca",
   "metadata": {},
   "outputs": [],
   "source": []
  }
 ],
 "metadata": {
  "kernelspec": {
   "display_name": "Python 3",
   "language": "python",
   "name": "python3"
  },
  "language_info": {
   "codemirror_mode": {
    "name": "ipython",
    "version": 3
   },
   "file_extension": ".py",
   "mimetype": "text/x-python",
   "name": "python",
   "nbconvert_exporter": "python",
   "pygments_lexer": "ipython3",
   "version": "3.8.8"
  }
 },
 "nbformat": 4,
 "nbformat_minor": 5
}
