{
 "cells": [
  {
   "cell_type": "code",
   "execution_count": 6,
   "id": "61887904",
   "metadata": {},
   "outputs": [
    {
     "name": "stdout",
     "output_type": "stream",
     "text": [
      "3\n",
      "124\n",
      "24\n",
      "4 2 0 4\n",
      "25\n",
      "0\n",
      "1 0 0 0\n",
      "194\n",
      "19\n",
      "7 1 1 4\n"
     ]
    }
   ],
   "source": [
    "n = int(input())\n",
    "\n",
    "\n",
    "for _ in range(n):\n",
    "    a,b,c,d = 0,0,0,0\n",
    "    num = int(input())\n",
    "    if num//25 > 0:\n",
    "        a += num//25\n",
    "        num = num%25\n",
    "    if num//10 > 0:\n",
    "        b += num//10\n",
    "        num = num%10\n",
    "    if num//5 > 0:\n",
    "        c += num//5\n",
    "        num = num%5\n",
    "    d = num\n",
    "    print(a,b,c,d)\n"
   ]
  },
  {
   "cell_type": "code",
   "execution_count": null,
   "id": "59a88234",
   "metadata": {},
   "outputs": [],
   "source": []
  }
 ],
 "metadata": {
  "kernelspec": {
   "display_name": "Python 3",
   "language": "python",
   "name": "python3"
  },
  "language_info": {
   "codemirror_mode": {
    "name": "ipython",
    "version": 3
   },
   "file_extension": ".py",
   "mimetype": "text/x-python",
   "name": "python",
   "nbconvert_exporter": "python",
   "pygments_lexer": "ipython3",
   "version": "3.9.4"
  }
 },
 "nbformat": 4,
 "nbformat_minor": 5
}
