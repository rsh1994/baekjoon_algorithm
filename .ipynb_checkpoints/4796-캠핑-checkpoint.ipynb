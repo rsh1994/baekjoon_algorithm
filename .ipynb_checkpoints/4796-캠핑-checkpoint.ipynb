{
 "cells": [
  {
   "cell_type": "code",
   "execution_count": 8,
   "id": "2a28bca1",
   "metadata": {},
   "outputs": [
    {
     "name": "stdout",
     "output_type": "stream",
     "text": [
      "2 8 10\n",
      "Case 1: 4\n",
      "2 8 20\n",
      "Case 2: 6\n",
      "0 0 0\n"
     ]
    }
   ],
   "source": [
    "idx = 1\n",
    "while True:\n",
    "    a,b,c = map(int,input().split())\n",
    "    if a==b==c==0:\n",
    "        break\n",
    "    d = c//b\n",
    "    q = c-d*b\n",
    "    \n",
    "    answer = a*d\n",
    "    answer += min(a,q)\n",
    "    print(\"Case {}: {}\".format(idx, answer))\n",
    "    idx += 1"
   ]
  },
  {
   "cell_type": "code",
   "execution_count": null,
   "id": "4b7a772e",
   "metadata": {},
   "outputs": [],
   "source": []
  }
 ],
 "metadata": {
  "kernelspec": {
   "display_name": "Python 3",
   "language": "python",
   "name": "python3"
  },
  "language_info": {
   "codemirror_mode": {
    "name": "ipython",
    "version": 3
   },
   "file_extension": ".py",
   "mimetype": "text/x-python",
   "name": "python",
   "nbconvert_exporter": "python",
   "pygments_lexer": "ipython3",
   "version": "3.9.4"
  }
 },
 "nbformat": 4,
 "nbformat_minor": 5
}
