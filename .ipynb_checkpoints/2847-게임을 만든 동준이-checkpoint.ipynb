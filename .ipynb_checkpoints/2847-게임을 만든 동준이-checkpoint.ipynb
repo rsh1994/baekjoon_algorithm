{
 "cells": [
  {
   "cell_type": "code",
   "execution_count": 10,
   "id": "c9251769",
   "metadata": {},
   "outputs": [
    {
     "name": "stdout",
     "output_type": "stream",
     "text": [
      "3\n",
      "5\n",
      "5\n",
      "5\n",
      "temp: 1\n",
      "temp: 2\n",
      "3\n",
      "[5, 4, 3]\n"
     ]
    }
   ],
   "source": [
    "n = int(input())\n",
    "\n",
    "arr = []\n",
    "cnt = 0\n",
    "\n",
    "for _ in range(n):\n",
    "    arr.append(int(input()))\n",
    "    \n",
    "arr = arr[::-1]\n",
    "\n",
    "max_num = arr[0]\n",
    "\n",
    "for i in range(1,len(arr)):\n",
    "    if arr[i] >= max_num:\n",
    "        temp = arr[i]-max_num+1\n",
    "        arr[i] -= temp\n",
    "        cnt += temp\n",
    "    max_num = arr[i]\n",
    "    print(\"temp:\",temp)\n",
    "print(cnt)\n",
    "print(arr)\n",
    "        \n",
    "    "
   ]
  },
  {
   "cell_type": "code",
   "execution_count": null,
   "id": "c1896a2f",
   "metadata": {},
   "outputs": [],
   "source": []
  }
 ],
 "metadata": {
  "kernelspec": {
   "display_name": "Python 3",
   "language": "python",
   "name": "python3"
  },
  "language_info": {
   "codemirror_mode": {
    "name": "ipython",
    "version": 3
   },
   "file_extension": ".py",
   "mimetype": "text/x-python",
   "name": "python",
   "nbconvert_exporter": "python",
   "pygments_lexer": "ipython3",
   "version": "3.9.4"
  }
 },
 "nbformat": 4,
 "nbformat_minor": 5
}
