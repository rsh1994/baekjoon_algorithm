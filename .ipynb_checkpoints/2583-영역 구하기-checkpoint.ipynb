{
 "cells": [
  {
   "cell_type": "code",
   "execution_count": 26,
   "id": "d9a69596",
   "metadata": {
    "scrolled": true
   },
   "outputs": [
    {
     "name": "stdout",
     "output_type": "stream",
     "text": [
      "5 7 3\n",
      "0 2 4 4\n",
      "1 1 2 5\n",
      "4 0 6 2\n",
      "3\n",
      "0 0 0 \n"
     ]
    }
   ],
   "source": [
    "from collections import deque\n",
    "\n",
    "dx = [-1,1,0,0]\n",
    "dy = [0,0,-1,1]\n",
    "area = 0\n",
    "\n",
    "def bfs(x, y):\n",
    "    '''\n",
    "    dfs 구현\n",
    "    '''\n",
    "    global area\n",
    "    q = deque()\n",
    "    q.append((x,y))\n",
    "    visited[x][y] = 1\n",
    "    while q:\n",
    "        x, y =  q.popleft()\n",
    "        for k in range(4):\n",
    "            nx = x + dx[k]\n",
    "            ny = y + dy[k]\n",
    "            \n",
    "            if 0<=nx<m and 0<=ny<n and graph[nx][ny]==0 and visited[nx][ny]==0:\n",
    "                area += 1\n",
    "                visited[nx][ny] = 1\n",
    "                q.append((nx,ny))\n",
    "            \n",
    "\n",
    "cnt = 0 # 총 영역의 수\n",
    "\n",
    "area_list = []\n",
    "\n",
    "m, n, k = map(int, input().split())\n",
    "\n",
    "graph = [[0 for _ in range(n)] for _ in range(m)]\n",
    "\n",
    "\n",
    "for i in range(k):\n",
    "    temp = list(map(int,input().split()))\n",
    "    for j in range(temp[0],temp[2]):\n",
    "        for k in range(temp[1],temp[3]):\n",
    "            graph[k][j] = 1\n",
    "    \n",
    "    \n",
    "visited = [[0 for _ in range(n)] for _ in range(m)]\n",
    "\n",
    "for i in range(m):\n",
    "    for j in range(n):\n",
    "        area = 0\n",
    "        if graph[i][j] == 0 and visited[i][j] == 0:\n",
    "            cnt += 1\n",
    "            bfs(i,j)\n",
    "            area_list.append(area+1)\n",
    "            area = 0\n",
    "\n",
    "print(cnt)\n",
    "area_list.sort()\n",
    "for i in area_list:\n",
    "    print(i, end=' ')\n",
    "print()"
   ]
  },
  {
   "cell_type": "code",
   "execution_count": null,
   "id": "db3cc96f",
   "metadata": {},
   "outputs": [],
   "source": []
  }
 ],
 "metadata": {
  "kernelspec": {
   "display_name": "Python 3",
   "language": "python",
   "name": "python3"
  },
  "language_info": {
   "codemirror_mode": {
    "name": "ipython",
    "version": 3
   },
   "file_extension": ".py",
   "mimetype": "text/x-python",
   "name": "python",
   "nbconvert_exporter": "python",
   "pygments_lexer": "ipython3",
   "version": "3.8.8"
  }
 },
 "nbformat": 4,
 "nbformat_minor": 5
}
