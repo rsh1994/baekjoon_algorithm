{
 "cells": [
  {
   "cell_type": "code",
   "execution_count": 5,
   "id": "3420e4dd",
   "metadata": {},
   "outputs": [
    {
     "name": "stdout",
     "output_type": "stream",
     "text": [
      "3\n",
      "8\n",
      "0 0\n",
      "7 0\n",
      "5\n",
      "100\n",
      "0 0\n",
      "30 50\n",
      "28\n",
      "10\n",
      "1 1\n",
      "1 1\n",
      "0\n"
     ]
    }
   ],
   "source": [
    "from collections import deque\n",
    "\n",
    "test_case = int(input())\n",
    "\n",
    "dx = [1,1,-1,-1,2,2,-2,-2]\n",
    "dy = [2,-2,2,-2,1,-1,1,-1]\n",
    "\n",
    "for l in range(test_case):\n",
    "    n = int(input())\n",
    "    start_x, start_y = map(int, input().split())\n",
    "    end_x, end_y = map(int, input().split())\n",
    "    \n",
    "    cnt = 0\n",
    "    graph = [[-1 for _ in range(n)] for _ in range(n)]\n",
    "    \n",
    "    q = deque()\n",
    "    graph[start_x][start_y] = cnt\n",
    "    q.append((start_x, start_y,cnt))\n",
    "    \n",
    "    while q:\n",
    "        x, y, c = q.popleft()\n",
    "        if x==end_x and y==end_y:\n",
    "            print(c)\n",
    "            break\n",
    "        c += 1\n",
    "        for i in range(8):\n",
    "            nx = x + dx[i]\n",
    "            ny = y + dy[i]\n",
    "            \n",
    "            if 0<=nx<n and 0<=ny<n and graph[nx][ny]==-1:\n",
    "                graph[nx][ny] = c\n",
    "                q.append((nx,ny,c))\n"
   ]
  },
  {
   "cell_type": "code",
   "execution_count": null,
   "id": "98c0197c",
   "metadata": {},
   "outputs": [],
   "source": []
  }
 ],
 "metadata": {
  "kernelspec": {
   "display_name": "Python 3",
   "language": "python",
   "name": "python3"
  },
  "language_info": {
   "codemirror_mode": {
    "name": "ipython",
    "version": 3
   },
   "file_extension": ".py",
   "mimetype": "text/x-python",
   "name": "python",
   "nbconvert_exporter": "python",
   "pygments_lexer": "ipython3",
   "version": "3.8.8"
  }
 },
 "nbformat": 4,
 "nbformat_minor": 5
}
