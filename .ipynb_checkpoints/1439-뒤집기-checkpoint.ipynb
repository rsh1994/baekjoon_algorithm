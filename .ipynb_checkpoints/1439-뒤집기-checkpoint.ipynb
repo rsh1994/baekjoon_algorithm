{
 "cells": [
  {
   "cell_type": "code",
   "execution_count": 3,
   "id": "7397f7fd",
   "metadata": {},
   "outputs": [
    {
     "name": "stdout",
     "output_type": "stream",
     "text": [
      "00101010\n",
      "7\n"
     ]
    }
   ],
   "source": [
    "n = input()\n",
    "\n",
    "cnt = 1\n",
    "cur = n[0]\n",
    "for i in n:\n",
    "    if i != cur:\n",
    "        cur = i\n",
    "        cnt += 1\n",
    "print(cnt//2)"
   ]
  },
  {
   "cell_type": "code",
   "execution_count": null,
   "id": "b38e2e05",
   "metadata": {},
   "outputs": [],
   "source": []
  }
 ],
 "metadata": {
  "kernelspec": {
   "display_name": "Python 3",
   "language": "python",
   "name": "python3"
  },
  "language_info": {
   "codemirror_mode": {
    "name": "ipython",
    "version": 3
   },
   "file_extension": ".py",
   "mimetype": "text/x-python",
   "name": "python",
   "nbconvert_exporter": "python",
   "pygments_lexer": "ipython3",
   "version": "3.9.4"
  }
 },
 "nbformat": 4,
 "nbformat_minor": 5
}
