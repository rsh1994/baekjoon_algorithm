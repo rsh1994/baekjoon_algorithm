{
 "cells": [
  {
   "cell_type": "code",
   "execution_count": 17,
   "id": "5bb289b2",
   "metadata": {},
   "outputs": [
    {
     "name": "stdout",
     "output_type": "stream",
     "text": [
      "4\n",
      "1 0 0 5\n",
      "6 6 8 0\n",
      "5 5 5 1\n",
      "3 0 2 8\n",
      "3\n"
     ]
    }
   ],
   "source": [
    "'''\n",
    "문제 잘못 읽음. n보다 낮은게 아니라 순회해가면서 최대값 나오게 수정해야함\n",
    "'''\n",
    "\n",
    "from collections import deque\n",
    "\n",
    "n = int(input())\n",
    "\n",
    "graph = []\n",
    "cnt = 0\n",
    "\n",
    "# 땅 입력받기\n",
    "\n",
    "for i in range(n):\n",
    "    temp = list(map(int,input().split()))\n",
    "    graph.append([1 if i>n  else 0 for i in temp])\n",
    "            \n",
    "#print(\"graph:\",graph)            \n",
    "visited = [[0 for _ in range(n)] for _ in range(n)]\n",
    "#print(\"visited:\",visited)\n",
    "    \n",
    "def bfs(x, y):\n",
    "    '''\n",
    "    bfs 구현\n",
    "    '''\n",
    "    q = deque()\n",
    "    q.append((x,y))\n",
    "    visited[x][y] = 1\n",
    "    \n",
    "    while q:\n",
    "        x, y = q.popleft()\n",
    "        \n",
    "        for k in range(4):\n",
    "            nx = x + dx[k]\n",
    "            ny = y + dy[k]\n",
    "            \n",
    "            if 0<=nx<n and 0<=ny<n and visited[nx][ny]==0 and graph[nx][ny]==1:\n",
    "                q.append((nx,ny))\n",
    "                visited[nx][ny] = 1\n",
    "                \n",
    "dx = [-1,1,0,0]\n",
    "dy = [0,0,-1,1]\n",
    "\n",
    "for i in range(n):\n",
    "    for j in range(n):\n",
    "        if graph[i][j] == 1 and visited[i][j] == 0: # 땅이 있는곳 탐색\n",
    "            cnt += 1\n",
    "            bfs(i,j)\n",
    "            \n",
    "print(cnt)\n",
    "            \n",
    "#print(visited)  \n",
    "        \n"
   ]
  },
  {
   "cell_type": "code",
   "execution_count": null,
   "id": "19423072",
   "metadata": {},
   "outputs": [],
   "source": []
  }
 ],
 "metadata": {
  "kernelspec": {
   "display_name": "Python 3",
   "language": "python",
   "name": "python3"
  },
  "language_info": {
   "codemirror_mode": {
    "name": "ipython",
    "version": 3
   },
   "file_extension": ".py",
   "mimetype": "text/x-python",
   "name": "python",
   "nbconvert_exporter": "python",
   "pygments_lexer": "ipython3",
   "version": "3.8.8"
  }
 },
 "nbformat": 4,
 "nbformat_minor": 5
}
