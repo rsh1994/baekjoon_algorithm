{
 "cells": [
  {
   "cell_type": "code",
   "execution_count": 8,
   "id": "b34792cb",
   "metadata": {},
   "outputs": [
    {
     "name": "stdout",
     "output_type": "stream",
     "text": [
      "()()()()\n",
      "yes\n",
      "\n",
      "yes\n",
      ".\n"
     ]
    }
   ],
   "source": [
    "import sys\n",
    "\n",
    "#input = sys.stdin.readline\n",
    "\n",
    "balance = {\n",
    "    '(':')',\n",
    "    '[':']'\n",
    "}\n",
    "\n",
    "\n",
    "while True:\n",
    "    flag = True\n",
    "    n = input()\n",
    "    if n=='.':\n",
    "        break\n",
    "    arr = []\n",
    "    for i in n:\n",
    "        if i == '(':\n",
    "            arr.append(i)\n",
    "        elif i=='[':\n",
    "            arr.append(i)\n",
    "        elif i==')':\n",
    "            if len(arr) == 0:\n",
    "                print(\"no\")\n",
    "                flag = False\n",
    "                break\n",
    "            if arr[-1] == '(':\n",
    "                arr.pop()\n",
    "            else:\n",
    "                print('no')\n",
    "                flag = False\n",
    "                break\n",
    "        elif i==']':\n",
    "            if len(arr) == 0:\n",
    "                print(\"no\")\n",
    "                flag = False\n",
    "                break\n",
    "            if arr[-1] == '[':\n",
    "                arr.pop()\n",
    "            else:\n",
    "                print(\"no\")\n",
    "                flag = False\n",
    "                break\n",
    "        #print(arr)\n",
    "    if len(arr)==0 and flag==True:\n",
    "        print(\"yes\")\n",
    "    "
   ]
  },
  {
   "cell_type": "markdown",
   "id": "fa2b2eef",
   "metadata": {},
   "source": [
    "> 공백 균형 구현못함 아직\n"
   ]
  },
  {
   "cell_type": "code",
   "execution_count": null,
   "id": "f2dc53ac",
   "metadata": {},
   "outputs": [],
   "source": []
  }
 ],
 "metadata": {
  "kernelspec": {
   "display_name": "Python 3",
   "language": "python",
   "name": "python3"
  },
  "language_info": {
   "codemirror_mode": {
    "name": "ipython",
    "version": 3
   },
   "file_extension": ".py",
   "mimetype": "text/x-python",
   "name": "python",
   "nbconvert_exporter": "python",
   "pygments_lexer": "ipython3",
   "version": "3.8.8"
  }
 },
 "nbformat": 4,
 "nbformat_minor": 5
}
