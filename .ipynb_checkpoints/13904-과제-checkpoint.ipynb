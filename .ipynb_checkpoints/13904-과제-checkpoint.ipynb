{
 "cells": [
  {
   "cell_type": "code",
   "execution_count": 30,
   "id": "f99f5419",
   "metadata": {},
   "outputs": [
    {
     "name": "stdout",
     "output_type": "stream",
     "text": [
      "4\n",
      "9 9\n",
      "9 9\n",
      "9 9\n",
      "1 10\n",
      "i: 9 arr: [9, 9, 9]\n",
      "[9, 9, 9]\n",
      "i: 1 arr: [10]\n",
      "[10]\n",
      "37\n"
     ]
    }
   ],
   "source": [
    "n = int(input())\n",
    "\n",
    "exam = [[] for _ in range(1002)]\n",
    "\n",
    "arr = []\n",
    "\n",
    "result = 0\n",
    "\n",
    "max_day = 0\n",
    "\n",
    "for _ in range(n):\n",
    "    day, score = map(int,input().split())\n",
    "    if day > max_day:\n",
    "        max_day = day\n",
    "    exam[day].append(score)\n",
    "    \n",
    "for i in range(max_day+1,0,-1):\n",
    "    if len(exam[i]) != 0:\n",
    "        for j in exam[i]:\n",
    "            arr.append(j)\n",
    "        arr.sort(reverse=True)\n",
    "        print(\"i:\",i,\"arr:\",arr)\n",
    "        print(arr)\n",
    "        result += arr.pop(0)\n",
    "    else:\n",
    "        if len(arr) != 0:\n",
    "            result += arr.pop(0)\n",
    "\n",
    "\n",
    "print(result)"
   ]
  },
  {
   "cell_type": "code",
   "execution_count": null,
   "id": "46c27492",
   "metadata": {},
   "outputs": [],
   "source": []
  }
 ],
 "metadata": {
  "kernelspec": {
   "display_name": "Python 3",
   "language": "python",
   "name": "python3"
  },
  "language_info": {
   "codemirror_mode": {
    "name": "ipython",
    "version": 3
   },
   "file_extension": ".py",
   "mimetype": "text/x-python",
   "name": "python",
   "nbconvert_exporter": "python",
   "pygments_lexer": "ipython3",
   "version": "3.9.4"
  }
 },
 "nbformat": 4,
 "nbformat_minor": 5
}
