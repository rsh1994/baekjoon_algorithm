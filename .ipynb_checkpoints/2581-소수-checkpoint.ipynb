{
 "cells": [
  {
   "cell_type": "code",
   "execution_count": 16,
   "id": "6bce9bd0",
   "metadata": {},
   "outputs": [
    {
     "name": "stdout",
     "output_type": "stream",
     "text": [
      "64\n",
      "65\n",
      "-1\n"
     ]
    }
   ],
   "source": [
    "a = int(input())\n",
    "b = int(input())\n",
    "arr = set(i for i in range(2,b+1))\n",
    "\n",
    "for i in range(2,b+1):\n",
    "    if i in arr:\n",
    "        arr -= set(i for i in range(2*i,b+1,i))\n",
    "        \n",
    "result = list(arr)\n",
    "result = [i for i in result if i>=a]\n",
    "if len(result) == 0:\n",
    "    print(-1)\n",
    "else:\n",
    "    print(sum(result))\n",
    "    print(min(result))"
   ]
  },
  {
   "cell_type": "code",
   "execution_count": null,
   "id": "1ab8e890",
   "metadata": {},
   "outputs": [],
   "source": []
  }
 ],
 "metadata": {
  "kernelspec": {
   "display_name": "Python 3",
   "language": "python",
   "name": "python3"
  },
  "language_info": {
   "codemirror_mode": {
    "name": "ipython",
    "version": 3
   },
   "file_extension": ".py",
   "mimetype": "text/x-python",
   "name": "python",
   "nbconvert_exporter": "python",
   "pygments_lexer": "ipython3",
   "version": "3.9.4"
  }
 },
 "nbformat": 4,
 "nbformat_minor": 5
}
