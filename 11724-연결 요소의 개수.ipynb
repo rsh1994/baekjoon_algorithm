{
 "cells": [
  {
   "cell_type": "code",
   "execution_count": null,
   "id": "e07f2652",
   "metadata": {},
   "outputs": [],
   "source": [
    " import sys\n",
    "sys.setrecursionlimit(10000)\n",
    "\n",
    "n, m = map(int, input().split())\n",
    "input = sys.stdin.readline\n",
    "graph = [[] for _ in range(n+1)]\n",
    "visited = [False for _ in range(n+1)]\n",
    "\n",
    "cnt = 0\n",
    "\n",
    "def dfs(n):\n",
    "    visited[n] = True\n",
    "    for i in graph[n]:\n",
    "        if visited[i] == False:\n",
    "            dfs(i)\n",
    "        \n",
    "#print(\"graph:\",graph)\n",
    "#print(\"visited:\",visited)\n",
    "for i in range(m):\n",
    "    a, b = map(int, input().split())\n",
    "    graph[a].append(b)\n",
    "    graph[b].append(a)\n",
    "    \n",
    "for i in range(1,n+1):\n",
    "    if visited[i]==False:\n",
    "        dfs(i)\n",
    "        cnt += 1\n",
    "\n",
    "print(cnt)"
   ]
  },
  {
   "cell_type": "code",
   "execution_count": 16,
   "id": "3934d821",
   "metadata": {},
   "outputs": [
    {
     "name": "stdout",
     "output_type": "stream",
     "text": [
      "\n"
     ]
    }
   ],
   "source": [
    "a = sys.stdin.readline()\n",
    "a\n",
    "print(a)"
   ]
  },
  {
   "cell_type": "code",
   "execution_count": null,
   "id": "a0710a41",
   "metadata": {},
   "outputs": [],
   "source": []
  }
 ],
 "metadata": {
  "kernelspec": {
   "display_name": "Python 3",
   "language": "python",
   "name": "python3"
  },
  "language_info": {
   "codemirror_mode": {
    "name": "ipython",
    "version": 3
   },
   "file_extension": ".py",
   "mimetype": "text/x-python",
   "name": "python",
   "nbconvert_exporter": "python",
   "pygments_lexer": "ipython3",
   "version": "3.9.4"
  }
 },
 "nbformat": 4,
 "nbformat_minor": 5
}
