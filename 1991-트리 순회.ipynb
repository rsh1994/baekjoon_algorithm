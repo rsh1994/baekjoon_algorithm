{
 "cells": [
  {
   "cell_type": "code",
   "execution_count": 8,
   "id": "9281f61f",
   "metadata": {},
   "outputs": [
    {
     "name": "stdout",
     "output_type": "stream",
     "text": [
      "7\n",
      "A B C\n",
      "B D .\n",
      "C E F\n",
      "E . .\n",
      "F . G\n",
      "D . .\n",
      "G . .\n",
      "ABDCEFG\n",
      "DBAECFG\n",
      "DBEGFCA\n"
     ]
    }
   ],
   "source": [
    "class Node:\n",
    "    def __init__(self, item, left, right):\n",
    "        self.item = item\n",
    "        self.left = left\n",
    "        self.right = right\n",
    "        \n",
    "def preorder(node):\n",
    "    print(node.item, end='')\n",
    "    if node.left != '.':\n",
    "        preorder(tree[node.left])\n",
    "    if node.right != '.':\n",
    "        preorder(tree[node.right])\n",
    "\n",
    "def inorder(node):\n",
    "    if node.left != '.':\n",
    "        inorder(tree[node.left])\n",
    "    print(node.item, end='')\n",
    "    if node.right != '.':\n",
    "        inorder(tree[node.right])\n",
    "           \n",
    "def postorder(node):\n",
    "    if node.left != '.':\n",
    "        postorder(tree[node.left])\n",
    "    if node.right != '.':\n",
    "        postorder(tree[node.right])\n",
    "    print(node.item, end='')\n",
    "        \n",
    "        \n",
    "n = int(input())\n",
    "\n",
    "tree = {}\n",
    "\n",
    "for _ in range(n):\n",
    "    node, left, right = input().split()\n",
    "    tree[node] = Node(item=node, left=left, right=right)\n",
    "\n",
    "preorder(tree['A'])\n",
    "print()\n",
    "inorder(tree['A'])\n",
    "print()\n",
    "postorder(tree['A'])\n",
    "print()\n",
    "\n",
    "    "
   ]
  },
  {
   "cell_type": "code",
   "execution_count": null,
   "id": "af0c6032",
   "metadata": {},
   "outputs": [],
   "source": []
  }
 ],
 "metadata": {
  "kernelspec": {
   "display_name": "Python 3",
   "language": "python",
   "name": "python3"
  },
  "language_info": {
   "codemirror_mode": {
    "name": "ipython",
    "version": 3
   },
   "file_extension": ".py",
   "mimetype": "text/x-python",
   "name": "python",
   "nbconvert_exporter": "python",
   "pygments_lexer": "ipython3",
   "version": "3.8.8"
  }
 },
 "nbformat": 4,
 "nbformat_minor": 5
}
