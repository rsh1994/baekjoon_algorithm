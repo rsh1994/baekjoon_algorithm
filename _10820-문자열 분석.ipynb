{
 "cells": [
  {
   "cell_type": "code",
   "execution_count": 14,
   "id": "f0c085a4",
   "metadata": {},
   "outputs": [
    {
     "name": "stdout",
     "output_type": "stream",
     "text": [
      "dfkl123 12\n",
      "4 0 5 1\n",
      "fkasdlkl 12\n",
      "8 0 2 1\n",
      "0c0392rdf\n",
      "4 0 5 0\n",
      "SPACE    1    SPACE\n",
      "0 10 1 8\n",
      " S a M p L e I n P u T     \n",
      "5 6 0 16\n",
      "\n"
     ]
    }
   ],
   "source": [
    "while True:\n",
    "    sentence = list(input())\n",
    "    if sentence == []:\n",
    "        break\n",
    "    result = [0,0,0,0]\n",
    "    for s in sentence:\n",
    "        if s.isspace():\n",
    "            result[3] += 1\n",
    "        elif s.isupper():\n",
    "            result[1] += 1\n",
    "        elif s.islower():\n",
    "            result[0] += 1\n",
    "        elif s.isdigit():\n",
    "            result[2] += 1\n",
    "    print(\"{} {} {} {}\".format(result[0],result[1],result[2],result[3]))"
   ]
  },
  {
   "cell_type": "markdown",
   "id": "46c8b6dc",
   "metadata": {},
   "source": []
  }
 ],
 "metadata": {
  "kernelspec": {
   "display_name": "Python 3",
   "language": "python",
   "name": "python3"
  },
  "language_info": {
   "codemirror_mode": {
    "name": "ipython",
    "version": 3
   },
   "file_extension": ".py",
   "mimetype": "text/x-python",
   "name": "python",
   "nbconvert_exporter": "python",
   "pygments_lexer": "ipython3",
   "version": "3.8.8"
  }
 },
 "nbformat": 4,
 "nbformat_minor": 5
}
