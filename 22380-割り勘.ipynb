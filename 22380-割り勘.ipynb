{
 "cells": [
  {
   "cell_type": "code",
   "execution_count": 3,
   "id": "ed2be212",
   "metadata": {},
   "outputs": [
    {
     "name": "stdout",
     "output_type": "stream",
     "text": [
      "3 300\n",
      "120 100 80\n",
      "280\n",
      "3 30\n",
      "10 20 5\n",
      "25\n",
      "4 1000\n",
      "100 200 300 400\n",
      "800\n",
      "5 5\n",
      "2523 8430 3 4199 632\n",
      "5\n",
      "0 0\n"
     ]
    }
   ],
   "source": [
    "while True:\n",
    "    n, m = map(int, input().split())\n",
    "    if n==0 and m==0:\n",
    "        break\n",
    "    arr = list(map(int, input().split()))\n",
    "    \n",
    "    result = 0\n",
    "    \n",
    "    price = m//n\n",
    "    for i in arr:\n",
    "        if i>=price:\n",
    "            result += price\n",
    "        else:\n",
    "            result += i\n",
    "            \n",
    "    print(result)\n",
    "            "
   ]
  },
  {
   "cell_type": "markdown",
   "id": "7c4bfaa6",
   "metadata": {},
   "source": [
    " "
   ]
  },
  {
   "cell_type": "code",
   "execution_count": null,
   "id": "d3511d54",
   "metadata": {},
   "outputs": [],
   "source": []
  }
 ],
 "metadata": {
  "kernelspec": {
   "display_name": "Python 3",
   "language": "python",
   "name": "python3"
  },
  "language_info": {
   "codemirror_mode": {
    "name": "ipython",
    "version": 3
   },
   "file_extension": ".py",
   "mimetype": "text/x-python",
   "name": "python",
   "nbconvert_exporter": "python",
   "pygments_lexer": "ipython3",
   "version": "3.8.8"
  }
 },
 "nbformat": 4,
 "nbformat_minor": 5
}
