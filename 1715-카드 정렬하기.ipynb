{
 "cells": [
  {
   "cell_type": "code",
   "execution_count": 29,
   "id": "0e4175bc",
   "metadata": {},
   "outputs": [
    {
     "name": "stdout",
     "output_type": "stream",
     "text": [
      "3\n",
      "10\n",
      "20\n",
      "40\n",
      "heap: [30, 40] answer: 30\n",
      "heap: [70] answer: 100\n"
     ]
    }
   ],
   "source": [
    "import heapq\n",
    "\n",
    "n = int(input())\n",
    "\n",
    "card = []\n",
    "answer = 0\n",
    "\n",
    "for _ in range(n):\n",
    "    heapq.heappush(card,int(input()))\n",
    "    \n",
    "while True:\n",
    "    if len(card) == 1:\n",
    "        break\n",
    "    min1 = heapq.heappop(card)\n",
    "    min2 = heapq.heappop(card)\n",
    "    answer += min1 + min2\n",
    "    heapq.heappush(card,min1+min2)\n",
    "    \n",
    "print(answer)"
   ]
  },
  {
   "cell_type": "markdown",
   "id": "77526fd4",
   "metadata": {},
   "source": [
    "### heapq에 대해 알아봅시다"
   ]
  },
  {
   "cell_type": "code",
   "execution_count": 20,
   "id": "c02477a0",
   "metadata": {},
   "outputs": [],
   "source": [
    "import heapq"
   ]
  },
  {
   "cell_type": "code",
   "execution_count": 24,
   "id": "3c785be1",
   "metadata": {},
   "outputs": [],
   "source": [
    "heap = []"
   ]
  },
  {
   "cell_type": "code",
   "execution_count": 25,
   "id": "565e037b",
   "metadata": {},
   "outputs": [
    {
     "name": "stdout",
     "output_type": "stream",
     "text": [
      "[1, 3, 7, 4]\n"
     ]
    }
   ],
   "source": [
    "heapq.heappush(heap,4)\n",
    "heapq.heappush(heap,1)\n",
    "heapq.heappush(heap,7)\n",
    "heapq.heappush(heap,3)\n",
    "print(heap)"
   ]
  },
  {
   "cell_type": "code",
   "execution_count": 26,
   "id": "c12d6527",
   "metadata": {},
   "outputs": [
    {
     "name": "stdout",
     "output_type": "stream",
     "text": [
      "[3, 4, 7]\n"
     ]
    }
   ],
   "source": [
    "heapq.heappop(heap)\n",
    "print(heap)"
   ]
  },
  {
   "cell_type": "code",
   "execution_count": null,
   "id": "a187de87",
   "metadata": {},
   "outputs": [],
   "source": []
  }
 ],
 "metadata": {
  "kernelspec": {
   "display_name": "Python 3",
   "language": "python",
   "name": "python3"
  },
  "language_info": {
   "codemirror_mode": {
    "name": "ipython",
    "version": 3
   },
   "file_extension": ".py",
   "mimetype": "text/x-python",
   "name": "python",
   "nbconvert_exporter": "python",
   "pygments_lexer": "ipython3",
   "version": "3.8.8"
  }
 },
 "nbformat": 4,
 "nbformat_minor": 5
}
