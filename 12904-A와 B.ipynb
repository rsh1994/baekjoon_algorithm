{
 "cells": [
  {
   "cell_type": "code",
   "execution_count": 4,
   "id": "0d24c891",
   "metadata": {},
   "outputs": [
    {
     "name": "stdout",
     "output_type": "stream",
     "text": [
      "AB\n",
      "ABB\n",
      "ABB\n",
      "0\n"
     ]
    }
   ],
   "source": [
    "s = input()\n",
    "t = input()\n",
    "\n",
    "while True:\n",
    "    if len(s) == len(t):\n",
    "        if s==t:\n",
    "            print(1)\n",
    "            break\n",
    "        else:\n",
    "            print(0)\n",
    "            break\n",
    "    if t[-1] == 'A':\n",
    "        t = t[:-1]\n",
    "    elif t[-1] =='B':\n",
    "        t = t[:-1]\n",
    "        t = t[::-1]\n",
    "    "
   ]
  },
  {
   "cell_type": "code",
   "execution_count": 2,
   "id": "0880eaad",
   "metadata": {},
   "outputs": [
    {
     "name": "stdout",
     "output_type": "stream",
     "text": [
      "abcde\n"
     ]
    }
   ],
   "source": [
    "a = \"abcdef\"\n",
    "print(a[:-1])"
   ]
  },
  {
   "cell_type": "code",
   "execution_count": null,
   "id": "8d203a55",
   "metadata": {},
   "outputs": [],
   "source": []
  }
 ],
 "metadata": {
  "kernelspec": {
   "display_name": "Python 3",
   "language": "python",
   "name": "python3"
  },
  "language_info": {
   "codemirror_mode": {
    "name": "ipython",
    "version": 3
   },
   "file_extension": ".py",
   "mimetype": "text/x-python",
   "name": "python",
   "nbconvert_exporter": "python",
   "pygments_lexer": "ipython3",
   "version": "3.9.4"
  }
 },
 "nbformat": 4,
 "nbformat_minor": 5
}
