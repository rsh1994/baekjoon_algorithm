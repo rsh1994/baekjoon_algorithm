{
 "cells": [
  {
   "cell_type": "code",
   "execution_count": 21,
   "id": "7a91973e",
   "metadata": {},
   "outputs": [
    {
     "name": "stdout",
     "output_type": "stream",
     "text": [
      "3 2\n",
      "1 65\n",
      "5 23\n",
      "2 99\n",
      "10\n",
      "2\n",
      "[-65]\n",
      "[-99, -65]\n",
      "[-65, -23]\n",
      "164\n"
     ]
    }
   ],
   "source": [
    "import heapq\n",
    "import sys\n",
    "\n",
    "n, k = map(int, input().split())\n",
    "gem = []\n",
    "\n",
    "for _ in range(n):\n",
    "    w, v = map(int, input().split())\n",
    "    heapq.heappush(gem, [w,v])\n",
    "    \n",
    "bag = []\n",
    "for _ in range(k):\n",
    "    c = int(input())\n",
    "    heapq.heappush(bag, c)\n",
    "    \n",
    "result = 0\n",
    "temp = []\n",
    "\n",
    "for _ in range(k):\n",
    "    c = heapq.heappop(bag)\n",
    "    \n",
    "    while True:\n",
    "        if len(gem) == 0:\n",
    "            break\n",
    "        if c >= gem[0][0]:\n",
    "            w = heapq.heappop(gem)\n",
    "            heapq.heappush(temp,-w[1])\n",
    "        else:\n",
    "            break\n",
    "    if temp:\n",
    "        result -= heapq.heappop(temp)\n",
    "        \n",
    "print(result)"
   ]
  },
  {
   "cell_type": "markdown",
   "id": "b4018ea3",
   "metadata": {},
   "source": [
    "### heapq 연습"
   ]
  },
  {
   "cell_type": "code",
   "execution_count": 4,
   "id": "b974eaad",
   "metadata": {},
   "outputs": [],
   "source": [
    "import heapq"
   ]
  },
  {
   "cell_type": "code",
   "execution_count": 8,
   "id": "321b7720",
   "metadata": {},
   "outputs": [
    {
     "name": "stdout",
     "output_type": "stream",
     "text": [
      "[0, 3, 1, 6, 8, 2, 6]\n"
     ]
    }
   ],
   "source": [
    "testheap = [1,3,2,6,8,0,6]\n",
    "heapq.heapify(testheap)\n",
    "print(testheap)"
   ]
  },
  {
   "cell_type": "code",
   "execution_count": 9,
   "id": "40433346",
   "metadata": {},
   "outputs": [
    {
     "name": "stdout",
     "output_type": "stream",
     "text": [
      "[-3, 1, 3, 5]\n"
     ]
    }
   ],
   "source": [
    "testheap = []\n",
    "heapq.heappush(testheap, 3)\n",
    "heapq.heappush(testheap, 5)\n",
    "heapq.heappush(testheap, 1)\n",
    "heapq.heappush(testheap, -3)\n",
    "print(testheap)"
   ]
  },
  {
   "cell_type": "code",
   "execution_count": 10,
   "id": "6474bb7e",
   "metadata": {},
   "outputs": [
    {
     "data": {
      "text/plain": [
       "-3"
      ]
     },
     "execution_count": 10,
     "metadata": {},
     "output_type": "execute_result"
    }
   ],
   "source": [
    "heapq.heappop(testheap)"
   ]
  },
  {
   "cell_type": "code",
   "execution_count": 11,
   "id": "751c5650",
   "metadata": {},
   "outputs": [
    {
     "data": {
      "text/plain": [
       "1"
      ]
     },
     "execution_count": 11,
     "metadata": {},
     "output_type": "execute_result"
    }
   ],
   "source": [
    "heapq.heappop(testheap)"
   ]
  },
  {
   "cell_type": "code",
   "execution_count": 12,
   "id": "8bdc7df2",
   "metadata": {},
   "outputs": [
    {
     "name": "stdout",
     "output_type": "stream",
     "text": [
      "[3, 5]\n"
     ]
    }
   ],
   "source": [
    "print(testheap)"
   ]
  },
  {
   "cell_type": "code",
   "execution_count": 13,
   "id": "2d40fc46",
   "metadata": {},
   "outputs": [
    {
     "name": "stdout",
     "output_type": "stream",
     "text": [
      "5\n",
      "4\n",
      "3\n",
      "2\n",
      "1\n"
     ]
    }
   ],
   "source": [
    "a = [3,5,2,4,1]\n",
    "testheap = []\n",
    "for i in a:\n",
    "    heapq.heappush(testheap, -i)\n",
    "for i in range(5):\n",
    "    print(-heapq.heappop(testheap))"
   ]
  },
  {
   "cell_type": "code",
   "execution_count": 15,
   "id": "d08cea70",
   "metadata": {},
   "outputs": [
    {
     "name": "stdout",
     "output_type": "stream",
     "text": [
      "5\n",
      "4\n",
      "3\n",
      "2\n",
      "1\n"
     ]
    }
   ],
   "source": [
    "a = [3,5,2,4,1]\n",
    "testheap=[]\n",
    "for i in a:\n",
    "    heapq.heappush(testheap, (-i,i))\n",
    "for i in range(5):\n",
    "    print(heapq.heappop(testheap)[1])"
   ]
  },
  {
   "cell_type": "code",
   "execution_count": null,
   "id": "cb018908",
   "metadata": {},
   "outputs": [],
   "source": []
  }
 ],
 "metadata": {
  "kernelspec": {
   "display_name": "Python 3",
   "language": "python",
   "name": "python3"
  },
  "language_info": {
   "codemirror_mode": {
    "name": "ipython",
    "version": 3
   },
   "file_extension": ".py",
   "mimetype": "text/x-python",
   "name": "python",
   "nbconvert_exporter": "python",
   "pygments_lexer": "ipython3",
   "version": "3.9.4"
  }
 },
 "nbformat": 4,
 "nbformat_minor": 5
}
