{
 "cells": [
  {
   "cell_type": "code",
   "execution_count": 18,
   "id": "745fde34",
   "metadata": {},
   "outputs": [
    {
     "name": "stdout",
     "output_type": "stream",
     "text": [
      "3\n",
      "5 5 4\n",
      "3 9 1\n",
      "3 2 7\n",
      "nx: 1 ny: 0\n",
      "[5, -1, -1]\n",
      "[8, -1, -1]\n",
      "[-1, -1, -1]\n",
      "nx: 0 ny: 1\n",
      "[5, 10, -1]\n",
      "[8, -1, -1]\n",
      "[-1, -1, -1]\n",
      "nx: 2 ny: 0\n",
      "[5, 10, -1]\n",
      "[8, -1, -1]\n",
      "[11, -1, -1]\n",
      "nx: 1 ny: 1\n",
      "[5, 10, -1]\n",
      "[8, 14, -1]\n",
      "[11, -1, -1]\n",
      "nx: 0 ny: 2\n",
      "[5, 10, 14]\n",
      "[8, 14, -1]\n",
      "[11, -1, -1]\n",
      "nx: 2 ny: 1\n",
      "[5, 10, 14]\n",
      "[8, 14, -1]\n",
      "[11, 10, -1]\n",
      "nx: 1 ny: 2\n",
      "[5, 10, 14]\n",
      "[8, 14, 11]\n",
      "[11, 10, -1]\n",
      "nx: 2 ny: 2\n",
      "[5, 10, 14]\n",
      "[8, 14, 11]\n",
      "[11, 10, 17]\n",
      "17\n",
      "5 3 7 2 0 1 2 8 0 9 1 1 2 1 8 1 9 8 9 2 0 3 6 5 1 5\n"
     ]
    },
    {
     "ename": "ValueError",
     "evalue": "invalid literal for int() with base 10: '5 3 7 2 0 1 2 8 0 9 1 1 2 1 8 1 9 8 9 2 0 3 6 5 1 5'",
     "output_type": "error",
     "traceback": [
      "\u001b[1;31m---------------------------------------------------------------------------\u001b[0m",
      "\u001b[1;31mValueError\u001b[0m                                Traceback (most recent call last)",
      "\u001b[1;32m<ipython-input-18-ca7fe5af952f>\u001b[0m in \u001b[0;36m<module>\u001b[1;34m\u001b[0m\n\u001b[0;32m     29\u001b[0m \u001b[1;33m\u001b[0m\u001b[0m\n\u001b[0;32m     30\u001b[0m \u001b[1;32mwhile\u001b[0m \u001b[1;32mTrue\u001b[0m\u001b[1;33m:\u001b[0m\u001b[1;33m\u001b[0m\u001b[1;33m\u001b[0m\u001b[0m\n\u001b[1;32m---> 31\u001b[1;33m     \u001b[0mn\u001b[0m \u001b[1;33m=\u001b[0m \u001b[0mint\u001b[0m\u001b[1;33m(\u001b[0m\u001b[0minput\u001b[0m\u001b[1;33m(\u001b[0m\u001b[1;33m)\u001b[0m\u001b[1;33m)\u001b[0m\u001b[1;33m\u001b[0m\u001b[1;33m\u001b[0m\u001b[0m\n\u001b[0m\u001b[0;32m     32\u001b[0m     \u001b[1;32mif\u001b[0m \u001b[0mn\u001b[0m\u001b[1;33m==\u001b[0m\u001b[1;36m0\u001b[0m\u001b[1;33m:\u001b[0m\u001b[1;33m\u001b[0m\u001b[1;33m\u001b[0m\u001b[0m\n\u001b[0;32m     33\u001b[0m         \u001b[1;32mbreak\u001b[0m\u001b[1;33m\u001b[0m\u001b[1;33m\u001b[0m\u001b[0m\n",
      "\u001b[1;31mValueError\u001b[0m: invalid literal for int() with base 10: '5 3 7 2 0 1 2 8 0 9 1 1 2 1 8 1 9 8 9 2 0 3 6 5 1 5'"
     ]
    }
   ],
   "source": [
    "from collections import deque\n",
    "\n",
    "def dfs(x, y):\n",
    "    q = deque()\n",
    "    q.append((x,y))\n",
    "    while q:\n",
    "        x, y = q.popleft()\n",
    "        for k in range(4):\n",
    "            \n",
    "            nx = x + dx[k]\n",
    "            ny = y + dy[k]\n",
    "            if 0<=nx<n and 0<=ny<n and visited[nx][ny] == -1:\n",
    "                if nx==0 and ny!=0:\n",
    "                    visited[nx][ny] = graph[nx][ny] + visited[nx][ny-1]\n",
    "                elif nx!= 0 and ny==0:\n",
    "                    visited[nx][ny] = graph[nx][ny] + visited[nx-1][ny]\n",
    "                elif nx!=0 and ny !=0:\n",
    "                    temp1 = visited[nx][ny-1] + graph[nx][ny]\n",
    "                    temp2 = visited[nx-1][ny-1] + graph[nx][ny]\n",
    "                    visited[nx][ny] = temp2 if temp1>=temp2 else temp1\n",
    "                q.append((nx,ny))\n",
    "                print(\"nx:\",nx,\"ny:\",ny)\n",
    "                for z in visited:\n",
    "                    print(z)\n",
    "        \n",
    "\n",
    "dx = [-1,1,0,0]\n",
    "dy = [0,0,-1,1]\n",
    "\n",
    "while True:\n",
    "    n = int(input())\n",
    "    if n==0:\n",
    "        break\n",
    "        \n",
    "    graph = []\n",
    "    visited = [[-1 for _ in range(n)] for _ in range(n)] \n",
    "    \n",
    "    for i in range(n):\n",
    "        graph.append(list(map(int,input().split())))\n",
    "    visited[0][0] = graph[0][0]\n",
    "    dfs(0,0)\n",
    "    print(visited[-1][-1])"
   ]
  },
  {
   "cell_type": "markdown",
   "id": "72fbdf42",
   "metadata": {},
   "source": [
    "### "
   ]
  },
  {
   "cell_type": "markdown",
   "id": "3c13d6b6",
   "metadata": {},
   "source": [
    "### "
   ]
  },
  {
   "cell_type": "code",
   "execution_count": null,
   "id": "c889cc73",
   "metadata": {},
   "outputs": [],
   "source": []
  }
 ],
 "metadata": {
  "kernelspec": {
   "display_name": "Python 3",
   "language": "python",
   "name": "python3"
  },
  "language_info": {
   "codemirror_mode": {
    "name": "ipython",
    "version": 3
   },
   "file_extension": ".py",
   "mimetype": "text/x-python",
   "name": "python",
   "nbconvert_exporter": "python",
   "pygments_lexer": "ipython3",
   "version": "3.8.8"
  }
 },
 "nbformat": 4,
 "nbformat_minor": 5
}
