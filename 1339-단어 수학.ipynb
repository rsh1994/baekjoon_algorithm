{
 "cells": [
  {
   "cell_type": "code",
   "execution_count": 14,
   "id": "259c07c7",
   "metadata": {},
   "outputs": [
    {
     "name": "stdout",
     "output_type": "stream",
     "text": [
      "10\n",
      "A\n",
      "B\n",
      "C\n",
      "D\n",
      "E\n",
      "F\n",
      "G\n",
      "H\n",
      "I\n",
      "J\n",
      "45\n"
     ]
    }
   ],
   "source": [
    "n = int(input())\n",
    "\n",
    "s = []\n",
    "dic = {}\n",
    "\n",
    "answer = 0\n",
    "\n",
    "for _ in range(n):\n",
    "    temp = input()\n",
    "    l = len(temp)\n",
    "    for i,j in enumerate(temp):\n",
    "        if j not in dic:\n",
    "            dic[j] = 0\n",
    "        dic[j] += 10**(l-i-1)\n",
    "dic = sorted(dic.items(), key=lambda x: -x[1])\n",
    "\n",
    "num = 9\n",
    "\n",
    "for i,j in dic:\n",
    "    answer += j*num\n",
    "    num-= 1\n",
    "    \n",
    "print(answer)"
   ]
  },
  {
   "cell_type": "code",
   "execution_count": null,
   "id": "b174ef8c",
   "metadata": {},
   "outputs": [],
   "source": []
  }
 ],
 "metadata": {
  "kernelspec": {
   "display_name": "Python 3",
   "language": "python",
   "name": "python3"
  },
  "language_info": {
   "codemirror_mode": {
    "name": "ipython",
    "version": 3
   },
   "file_extension": ".py",
   "mimetype": "text/x-python",
   "name": "python",
   "nbconvert_exporter": "python",
   "pygments_lexer": "ipython3",
   "version": "3.8.8"
  }
 },
 "nbformat": 4,
 "nbformat_minor": 5
}
