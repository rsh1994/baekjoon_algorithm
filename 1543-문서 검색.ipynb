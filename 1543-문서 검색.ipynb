{
 "cells": [
  {
   "cell_type": "code",
   "execution_count": 3,
   "id": "10d86eff",
   "metadata": {},
   "outputs": [
    {
     "name": "stdout",
     "output_type": "stream",
     "text": [
      "a a a a a\n",
      "a a\n",
      "2\n"
     ]
    }
   ],
   "source": [
    "s = input()\n",
    "\n",
    "t = input()\n",
    "\n",
    "s = s.replace(t,\"*\")\n",
    "\n",
    "print(s.count(\"*\"))\n"
   ]
  },
  {
   "cell_type": "code",
   "execution_count": null,
   "id": "dbb119c4",
   "metadata": {},
   "outputs": [],
   "source": []
  }
 ],
 "metadata": {
  "kernelspec": {
   "display_name": "Python 3",
   "language": "python",
   "name": "python3"
  },
  "language_info": {
   "codemirror_mode": {
    "name": "ipython",
    "version": 3
   },
   "file_extension": ".py",
   "mimetype": "text/x-python",
   "name": "python",
   "nbconvert_exporter": "python",
   "pygments_lexer": "ipython3",
   "version": "3.9.4"
  }
 },
 "nbformat": 4,
 "nbformat_minor": 5
}
