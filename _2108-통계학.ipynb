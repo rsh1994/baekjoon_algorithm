{
 "cells": [
  {
   "cell_type": "code",
   "execution_count": 32,
   "id": "ef24d063",
   "metadata": {},
   "outputs": [
    {
     "name": "stdout",
     "output_type": "stream",
     "text": [
      "3\n",
      "1\n",
      "4\n",
      "5\n",
      "3\n",
      "4\n",
      "4\n",
      "4\n"
     ]
    }
   ],
   "source": [
    "import sys\n",
    "import math\n",
    "#input = sys.stdin.readline\n",
    "\n",
    "n = int(input())\n",
    "\n",
    "arr = []\n",
    "cnt = {}\n",
    "for i in range(n):\n",
    "    temp = int(input())\n",
    "    if temp not in cnt:\n",
    "        cnt[temp] = 1\n",
    "    else:\n",
    "        cnt[temp] += 1\n",
    "    arr.append(temp)\n",
    "    \n",
    "arr.sort()\n",
    "cnt = sorted(cnt.items(), key=lambda x: (-x[1],x[0]))\n",
    "cnt = cnt[:2]\n",
    "\n",
    "if sum(arr)/float(n)%1 >= 0.5:\n",
    "    print(math.ceil(sum(arr)/float(n)))\n",
    "else:\n",
    "    print(math.floor(sum(arr)/float(n)))\n",
    "    \n",
    "print(arr[n//2]) # 2. 중앙값\n",
    "if len(cnt) == 1:\n",
    "    print(cnt[0][0])\n",
    "else:\n",
    "    if cnt[0][1]== cnt[1][1] :\n",
    "        print(cnt[1][0])\n",
    "    else:\n",
    "        print(cnt[0][1])  # 3. 최빈값\n",
    "print(max(arr)-min(arr)) # 4. 벙위\n"
   ]
  },
  {
   "cell_type": "markdown",
   "id": "d90feb98",
   "metadata": {},
   "source": [
    "# "
   ]
  },
  {
   "cell_type": "code",
   "execution_count": null,
   "id": "abd609a3",
   "metadata": {},
   "outputs": [],
   "source": []
  }
 ],
 "metadata": {
  "kernelspec": {
   "display_name": "Python 3",
   "language": "python",
   "name": "python3"
  },
  "language_info": {
   "codemirror_mode": {
    "name": "ipython",
    "version": 3
   },
   "file_extension": ".py",
   "mimetype": "text/x-python",
   "name": "python",
   "nbconvert_exporter": "python",
   "pygments_lexer": "ipython3",
   "version": "3.8.8"
  }
 },
 "nbformat": 4,
 "nbformat_minor": 5
}
